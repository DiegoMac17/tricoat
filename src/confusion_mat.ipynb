{
 "cells": [
  {
   "cell_type": "code",
   "execution_count": 2,
   "metadata": {},
   "outputs": [],
   "source": [
    "import pickle\n",
    "import pandas as pd\n",
    "import numpy as np\n",
    "import seaborn as sns\n",
    "import torch\n",
    "from utils import wgs_cleaner, select_snps, gene_rep, filter_and_imput, clean_pat_wgs_id_ADNI, filter_and_impute_img\n",
    "import os\n",
    "from torch.nn.functional import log_softmax"
   ]
  },
  {
   "cell_type": "code",
   "execution_count": 3,
   "metadata": {},
   "outputs": [],
   "source": [
    "dict_path = '../results/ADNI_full_abl_new_auxlossandarch_no_tune_lre-4_drop03_k256_units_256_noTFend_newclinfeat_clinF_nomaxpool_iter_0_results_dictionary.pkl'\n",
    "quant_res_path = '../results/ADNI_full_abl_new_auxlossandarch_no_tune_lre-4_drop03_k256_units_256_noTFend_newclinfeat_clinF_nomaxpool_iter_0_results_summary.csv'\n",
    "clin_feat_path =  '../data/ADNI/adni_clin_feat_names.txt'\n",
    "img_feat_path =  '../data/ADNI/adni_img_roi_names_short.txt'\n",
    "gen_feat_path =  '../data/ADNI/adni_gen_feat_names.txt'\n",
    "clin_dat_path = '../data/ADNI/ADNIMERGE.csv'\n",
    "img_dat_path = '../data/ADNI/imaging/TADPOLE_D1_D2.csv'\n",
    "path_img_feat = '../../../../bulk/machad/ADNI/adni_img_feat_names_crossectional.txt'\n",
    "path_feat_dict = '../../../../bulk/machad/ADNI/TADPOLE_D1_D2_Dict.csv'\n",
    "path_roi_nm = '../../../../bulk/machad/ADNI/adni_img_roi_names.txt'\n",
    "path_img_feat_short = '../data/ADNI/adni_img_roi_names_short.txt'\n",
    "outcome_vars = ['MMSE','CDRSB', 'DX_bl']\n",
    "demo_vars = ['PTID','AGE','PTGENDER','PTETHCAT','PTRACCAT']\n",
    "clin_vars = ['RAVLT_immediate' ,'RAVLT_learning' ,'RAVLT_forgetting' ,'RAVLT_perc_forgetting' ,'LDELTOTAL', 'DIGITSCOR', 'TRABSCOR']\n",
    "impute,vis_colnm = 'True', 'VISCODE'\n",
    "visit = 'bl'"
   ]
  },
  {
   "attachments": {},
   "cell_type": "markdown",
   "metadata": {},
   "source": [
    "### Load all pat data and compute descriptive stats"
   ]
  },
  {
   "cell_type": "code",
   "execution_count": 4,
   "metadata": {},
   "outputs": [
    {
     "name": "stderr",
     "output_type": "stream",
     "text": [
      "/tmp/ipykernel_2754488/1966219425.py:1: DtypeWarning: Columns (18,19,20,103,104) have mixed types. Specify dtype option on import or set low_memory=False.\n",
      "  clin_dat = pd.read_csv(clin_dat_path)\n",
      "/tmp/ipykernel_2754488/1966219425.py:2: DtypeWarning: Columns (22,23,24,53,54,82,97,98,99,100,101,102,103,104,105,106,107,108,109,110,111,112,113,114,115,116,117) have mixed types. Specify dtype option on import or set low_memory=False.\n",
      "  img_data = pd.read_csv(img_dat_path)\n"
     ]
    }
   ],
   "source": [
    "clin_dat = pd.read_csv(clin_dat_path)\n",
    "img_data = pd.read_csv(img_dat_path)"
   ]
  },
  {
   "cell_type": "code",
   "execution_count": 5,
   "metadata": {},
   "outputs": [],
   "source": [
    "for var in outcome_vars:\n",
    "    clin_dat = clin_dat[clin_dat[var].notna()]\n",
    "clin_dat.PTID = clin_dat.PTID.apply(lambda x: clean_pat_wgs_id_ADNI(x))\n",
    "clin_dat_bl_demo, clin_dat_bl_x, clin_dat_y  = filter_and_imput(clin_dat,'bl',demo_vars,clin_vars,outcome_vars,impute,vis_colnm)"
   ]
  },
  {
   "cell_type": "code",
   "execution_count": 6,
   "metadata": {},
   "outputs": [],
   "source": [
    "roi_nm = np.loadtxt(path_roi_nm, dtype= 'str').tolist()\n",
    "img_feat_short = np.loadtxt(path_img_feat_short, dtype= 'str').tolist()\n",
    "img_feat_short_map = dict(zip(roi_nm,img_feat_short))"
   ]
  },
  {
   "cell_type": "code",
   "execution_count": 7,
   "metadata": {},
   "outputs": [],
   "source": [
    "img_feat_nm = np.loadtxt(path_img_feat, dtype= 'str').tolist()\n",
    "cols_interest = img_feat_nm\n",
    "roi_df = pd.read_csv(path_feat_dict, dtype='str')\n",
    "img_data['PTID']\n",
    "img_data['PTID'] = img_data.PTID.apply(lambda x: clean_pat_wgs_id_ADNI(x))\n",
    "img_data = img_data.set_index('PTID')\n",
    "\n",
    "img_data = img_data.loc[img_data[vis_colnm] == visit,:]\n",
    "\n",
    "# drop column for visit ID\n",
    "img_data = img_data[img_data[vis_colnm].notna()]\n",
    "\n",
    "# Filter cols / vars of interest\n",
    "img_data = img_data.loc[:,cols_interest]\n",
    "\n",
    "# Replace empty rows that have ' ' for nan\n",
    "img_data = img_data.replace(r'^\\s*$', np.nan, regex=True)\n",
    "\n",
    "# Drop all rows that have all nans for patients\n",
    "img_data = img_data.dropna(axis = 0, how = 'all')\n",
    "\n",
    "# Filter for only Cross-Sectional analysis\n",
    "roi_df = roi_df[roi_df['FLDNAME'].isin(cols_interest)]\n",
    "roi_df = roi_df.loc[roi_df['CRFNAME'] == 'Cross-Sectional FreeSurfer (FreeSurfer Version 4.3)',:]\n",
    "\n",
    "# Parse regions of interest\n",
    "roi_df['ROI'] = roi_df['TEXT'].str.split('of',expand=True).iloc[:,1]\n",
    "roi_df['Trait'] = roi_df['TEXT'].str.split('of',expand=True).iloc[:,0]\n",
    "roi_df['Trait'] =  roi_df['Trait'].replace(r\"^ +| +$\", r\"\", regex=True)\n",
    "roi_df = roi_df.set_index('FLDNAME')\n",
    "roi_shared = roi_df.loc[roi_df['Trait'] == 'Cortical Thickness Average','ROI']\n",
    "idx = img_data.index.values"
   ]
  },
  {
   "cell_type": "code",
   "execution_count": 8,
   "metadata": {},
   "outputs": [],
   "source": [
    "img_data.columns = img_data.columns.map(roi_df.ROI.replace(r\"^ +| +$\", r\"\", regex=True).to_dict()).map(img_feat_short_map)\n",
    "img_data = img_data.loc[:, img_data.columns.notna()]\n"
   ]
  },
  {
   "cell_type": "code",
   "execution_count": 9,
   "metadata": {},
   "outputs": [
    {
     "data": {
      "text/html": [
       "<div>\n",
       "<style scoped>\n",
       "    .dataframe tbody tr th:only-of-type {\n",
       "        vertical-align: middle;\n",
       "    }\n",
       "\n",
       "    .dataframe tbody tr th {\n",
       "        vertical-align: top;\n",
       "    }\n",
       "\n",
       "    .dataframe thead th {\n",
       "        text-align: right;\n",
       "    }\n",
       "</style>\n",
       "<table border=\"1\" class=\"dataframe\">\n",
       "  <thead>\n",
       "    <tr style=\"text-align: right;\">\n",
       "      <th></th>\n",
       "      <th>RAVLT_immediate</th>\n",
       "      <th>RAVLT_learning</th>\n",
       "      <th>RAVLT_forgetting</th>\n",
       "      <th>RAVLT_perc_forgetting</th>\n",
       "      <th>LDELTOTAL</th>\n",
       "      <th>DIGITSCOR</th>\n",
       "      <th>TRABSCOR</th>\n",
       "    </tr>\n",
       "  </thead>\n",
       "  <tbody>\n",
       "    <tr>\n",
       "      <th>count</th>\n",
       "      <td>2132.000000</td>\n",
       "      <td>2132.000000</td>\n",
       "      <td>2132.000000</td>\n",
       "      <td>2132.000000</td>\n",
       "      <td>2132.000000</td>\n",
       "      <td>2132.000000</td>\n",
       "      <td>2132.000000</td>\n",
       "    </tr>\n",
       "    <tr>\n",
       "      <th>mean</th>\n",
       "      <td>36.522353</td>\n",
       "      <td>4.424471</td>\n",
       "      <td>4.218353</td>\n",
       "      <td>55.292831</td>\n",
       "      <td>7.753875</td>\n",
       "      <td>37.034398</td>\n",
       "      <td>115.413179</td>\n",
       "    </tr>\n",
       "    <tr>\n",
       "      <th>std</th>\n",
       "      <td>12.821157</td>\n",
       "      <td>2.784546</td>\n",
       "      <td>2.712804</td>\n",
       "      <td>36.499139</td>\n",
       "      <td>5.472213</td>\n",
       "      <td>8.121238</td>\n",
       "      <td>72.088317</td>\n",
       "    </tr>\n",
       "    <tr>\n",
       "      <th>min</th>\n",
       "      <td>0.000000</td>\n",
       "      <td>-8.000000</td>\n",
       "      <td>-28.000000</td>\n",
       "      <td>-400.000000</td>\n",
       "      <td>0.000000</td>\n",
       "      <td>0.000000</td>\n",
       "      <td>0.000000</td>\n",
       "    </tr>\n",
       "    <tr>\n",
       "      <th>25%</th>\n",
       "      <td>27.000000</td>\n",
       "      <td>2.000000</td>\n",
       "      <td>3.000000</td>\n",
       "      <td>26.250025</td>\n",
       "      <td>3.000000</td>\n",
       "      <td>37.034398</td>\n",
       "      <td>66.000000</td>\n",
       "    </tr>\n",
       "    <tr>\n",
       "      <th>50%</th>\n",
       "      <td>36.000000</td>\n",
       "      <td>4.000000</td>\n",
       "      <td>4.000000</td>\n",
       "      <td>55.292831</td>\n",
       "      <td>8.000000</td>\n",
       "      <td>37.034398</td>\n",
       "      <td>91.000000</td>\n",
       "    </tr>\n",
       "    <tr>\n",
       "      <th>75%</th>\n",
       "      <td>46.000000</td>\n",
       "      <td>6.000000</td>\n",
       "      <td>6.000000</td>\n",
       "      <td>100.000000</td>\n",
       "      <td>12.000000</td>\n",
       "      <td>37.034398</td>\n",
       "      <td>132.000000</td>\n",
       "    </tr>\n",
       "    <tr>\n",
       "      <th>max</th>\n",
       "      <td>71.000000</td>\n",
       "      <td>12.000000</td>\n",
       "      <td>15.000000</td>\n",
       "      <td>100.000000</td>\n",
       "      <td>23.000000</td>\n",
       "      <td>80.000000</td>\n",
       "      <td>300.000000</td>\n",
       "    </tr>\n",
       "  </tbody>\n",
       "</table>\n",
       "</div>"
      ],
      "text/plain": [
       "       RAVLT_immediate  RAVLT_learning  RAVLT_forgetting  \\\n",
       "count      2132.000000     2132.000000       2132.000000   \n",
       "mean         36.522353        4.424471          4.218353   \n",
       "std          12.821157        2.784546          2.712804   \n",
       "min           0.000000       -8.000000        -28.000000   \n",
       "25%          27.000000        2.000000          3.000000   \n",
       "50%          36.000000        4.000000          4.000000   \n",
       "75%          46.000000        6.000000          6.000000   \n",
       "max          71.000000       12.000000         15.000000   \n",
       "\n",
       "       RAVLT_perc_forgetting    LDELTOTAL    DIGITSCOR     TRABSCOR  \n",
       "count            2132.000000  2132.000000  2132.000000  2132.000000  \n",
       "mean               55.292831     7.753875    37.034398   115.413179  \n",
       "std                36.499139     5.472213     8.121238    72.088317  \n",
       "min              -400.000000     0.000000     0.000000     0.000000  \n",
       "25%                26.250025     3.000000    37.034398    66.000000  \n",
       "50%                55.292831     8.000000    37.034398    91.000000  \n",
       "75%               100.000000    12.000000    37.034398   132.000000  \n",
       "max               100.000000    23.000000    80.000000   300.000000  "
      ]
     },
     "execution_count": 9,
     "metadata": {},
     "output_type": "execute_result"
    }
   ],
   "source": [
    "clin_dat_bl_x.describe()"
   ]
  },
  {
   "cell_type": "code",
   "execution_count": 10,
   "metadata": {},
   "outputs": [],
   "source": [
    "# with open('../results/ADNI_early_fusion_iter_0_results_dictionary.pkl', 'rb') as handle:\n",
    "# with open('../results/ADNI_interCLS_fusion_weightCE_iter_0_results_dictionary.pkl', 'rb') as handle:\n",
    "with open('../results/ADNI_full_abl_new_auxlossandarch_no_tune_lre-4_drop03_k256_units_256_noTFend_newclinfeat_clinF_nomaxpool_iter_0_results_dictionary.pkl', 'rb') as handle:\n",
    "    data = handle.read()\n",
    "d = pickle.loads(data)"
   ]
  },
  {
   "cell_type": "code",
   "execution_count": 16,
   "metadata": {},
   "outputs": [
    {
     "data": {
      "text/plain": [
       "{'lr': 0.0001,\n",
       " 'batch_size': 64,\n",
       " 'units': 256,\n",
       " 'd_model': 256,\n",
       " 'nhead': 4,\n",
       " 'dim_feedforward': 256,\n",
       " 'dropout': 0.0,\n",
       " 'layer_norm_eps': 1e-06,\n",
       " 'activation': 'relu',\n",
       " 'checkpoint_path': '../checkpoints/ADNI_full_abl_new_auxlossandarch_no_tune_lre-4_drop03_k256_units_256_noTFend_newclinfeat_clinF_nomaxpool'}"
      ]
     },
     "execution_count": 16,
     "metadata": {},
     "output_type": "execute_result"
    }
   ],
   "source": [
    "d[0][0]['data']"
   ]
  },
  {
   "cell_type": "code",
   "execution_count": 12,
   "metadata": {},
   "outputs": [
    {
     "name": "stdout",
     "output_type": "stream",
     "text": [
      "44\n"
     ]
    }
   ],
   "source": [
    "# load quantitavie results summary table\n",
    "quant_res = pd.read_csv(quant_res_path)\n",
    "quant_res.auc_test.idxmax()\n",
    "\n",
    "# load feature names\n",
    "clin_feat = np.loadtxt(clin_feat_path, dtype='str').tolist()\n",
    "img_feat = np.loadtxt(img_feat_path, dtype='str').tolist()\n",
    "# gen_feat = np.loadtxt(gen_feat_path, dtype='str', delimiter=\"$\").tolist() # Many gene names are not parsed properly so needed to add fake delimiter to allow for loading\n",
    "gen_feat = np.loadtxt(gen_feat_path, dtype='str').tolist()\n",
    "\n",
    "# find top performing model\n",
    "best_model_idx = quant_res.auc_test.idxmax()\n",
    "print(best_model_idx)\n",
    "best_model = d[best_model_idx//5][best_model_idx-((best_model_idx//5)*5)]\n",
    "# best_model_attributions = best_model['data']['attributions_l_test']"
   ]
  },
  {
   "cell_type": "code",
   "execution_count": 28,
   "metadata": {},
   "outputs": [],
   "source": [
    "all_feat_names = np.concatenate(((np.asarray(clin_feat)), np.apply_along_axis(lambda d: d[0] + '_' + d[1], 1, np.asarray(list(zip(np.repeat(img_feat,4),['CTA','CTSD','SA','VOL']*len(img_feat))))), np.asarray(gen_feat)), axis=0)"
   ]
  },
  {
   "cell_type": "code",
   "execution_count": 29,
   "metadata": {},
   "outputs": [],
   "source": [
    "rand_pat = 7\n",
    "k=10"
   ]
  },
  {
   "cell_type": "code",
   "execution_count": 30,
   "metadata": {},
   "outputs": [
    {
     "data": {
      "text/plain": [
       "<sklearn.metrics._plot.confusion_matrix.ConfusionMatrixDisplay at 0x7f45866f59c0>"
      ]
     },
     "execution_count": 30,
     "metadata": {},
     "output_type": "execute_result"
    },
    {
     "data": {
      "image/png": "[encoded data removed]",
      "text/plain": [
       "<Figure size 640x480 with 2 Axes>"
      ]
     },
     "metadata": {},
     "output_type": "display_data"
    }
   ],
   "source": [
    "from torch.nn.functional import log_softmax\n",
    "from sklearn.metrics import confusion_matrix, ConfusionMatrixDisplay\n",
    "y_test = best_model['data']['Pheno_og_test']\n",
    "res = torch.Tensor(best_model['data']['sev_scores_test'])\n",
    "preds = torch.exp(log_softmax(res,dim=1)).max(dim=1)[1]\n",
    "cm = confusion_matrix(y_test, preds, labels=[0,1,2])\n",
    "disp = ConfusionMatrixDisplay(confusion_matrix=cm,\n",
    "                              display_labels=[0,1,2])\n",
    "disp.plot()"
   ]
  },
  {
   "cell_type": "code",
   "execution_count": 31,
   "metadata": {},
   "outputs": [
    {
     "data": {
      "text/plain": [
       "<sklearn.metrics._plot.confusion_matrix.ConfusionMatrixDisplay at 0x7f458aa5c5e0>"
      ]
     },
     "execution_count": 31,
     "metadata": {},
     "output_type": "execute_result"
    },
    {
     "data": {
      "image/png": "[encoded data removed]",
      "text/plain": [
       "<Figure size 640x480 with 2 Axes>"
      ]
     },
     "metadata": {},
     "output_type": "display_data"
    }
   ],
   "source": [
    "y_test_all = []\n",
    "y_pred_all = []\n",
    "\n",
    "for i in range(10):\n",
    "    y_test_all.extend(d[i][0]['data']['Pheno_og_test'])\n",
    "    y_pred_all.extend(torch.exp(log_softmax(torch.Tensor(d[i][0]['data']['sev_scores_test']),dim=1)).max(dim=1)[1])\n",
    "cm = confusion_matrix(y_test_all, y_pred_all, labels=[0,1,2])\n",
    "disp = ConfusionMatrixDisplay(confusion_matrix=cm,\n",
    "                              display_labels=[0,1,2])\n",
    "disp.plot()"
   ]
  },
  {
   "cell_type": "code",
   "execution_count": 32,
   "metadata": {},
   "outputs": [
    {
     "data": {
      "text/plain": [
       "(array([0, 1, 2]), array([ 15, 177, 302]))"
      ]
     },
     "execution_count": 32,
     "metadata": {},
     "output_type": "execute_result"
    }
   ],
   "source": [
    "np.unique(y_test_all, return_counts=True)"
   ]
  },
  {
   "cell_type": "code",
   "execution_count": null,
   "metadata": {},
   "outputs": [],
   "source": []
  },
  {
   "attachments": {},
   "cell_type": "markdown",
   "metadata": {},
   "source": [
    "### Precision recall curves"
   ]
  },
  {
   "cell_type": "code",
   "execution_count": 33,
   "metadata": {},
   "outputs": [],
   "source": [
    "from sklearn.multiclass import OneVsRestClassifier\n",
    "from sklearn.preprocessing import OneHotEncoder\n",
    "import matplotlib.pyplot as plt\n",
    "from sklearn.metrics import precision_recall_curve"
   ]
  },
  {
   "cell_type": "code",
   "execution_count": 34,
   "metadata": {},
   "outputs": [],
   "source": [
    "y_test_all = []\n",
    "y_pred_all = []\n",
    "y_pred_all_max = []\n",
    "\n",
    "for i in range(10):\n",
    "    y_test_all.extend(d[i][0]['data']['Pheno_og_test'])\n",
    "    y_pred_all.extend(torch.exp(log_softmax(torch.Tensor(d[i][0]['data']['sev_scores_test']),dim=1)))\n",
    "    y_pred_all_max.extend(torch.argmax(torch.exp(log_softmax(torch.Tensor(d[i][0]['data']['sev_scores_test']),dim=1)),dim=1))"
   ]
  },
  {
   "cell_type": "code",
   "execution_count": 35,
   "metadata": {},
   "outputs": [],
   "source": [
    "def plot_precision_recall_curve(y, y_proba, caller):\n",
    "    # keep the algorithm's name to be written down into the graph\n",
    "    algor_name = 'TriCOAT'\n",
    "    \n",
    "    # put y into multiple columns for OneVsRestClassifier\n",
    "    onehotencoder = OneHotEncoder()\n",
    "    y_hat = onehotencoder.fit_transform(y.reshape(-1,1)).toarray()\n",
    "    n_classes = y_hat.shape[1]\n",
    "\n",
    "    # Compute ROC curve and ROC area for each class\n",
    "    fig = plt.figure()\n",
    "    plt.style.use('default')\n",
    "    precision = dict()\n",
    "    recall = dict()\n",
    "    for i in range(n_classes):\n",
    "        precision[i], recall[i], _ = precision_recall_curve(y_hat[:, i], y_proba[:,i])\n",
    "        plt.plot(recall[i], precision[i], lw=2, label='PR Curve of class {}'.format(i))\n",
    "    \n",
    "    plt.xlim([0.0, 1.0])\n",
    "    plt.ylim([0.0, 1.05])\n",
    "    plt.xlabel(\"recall\")\n",
    "    plt.ylabel(\"precision\")\n",
    "    plt.legend(loc=\"lower right\", prop={'size': 10})\n",
    "    plt.title('Precision-Recall on ' + algor_name)\n",
    "    # plt.suptitle(algor_name, fontsize=16)\n",
    "    fig.tight_layout(rect=[0, 0.03, 1, 0.95])\n",
    "    # plt.savefig('line_plot.pdf')  \n",
    "    plt.show()"
   ]
  },
  {
   "cell_type": "code",
   "execution_count": 36,
   "metadata": {},
   "outputs": [
    {
     "data": {
      "image/png": "[encoded data removed]",
      "text/plain": [
       "<Figure size 640x480 with 1 Axes>"
      ]
     },
     "metadata": {},
     "output_type": "display_data"
    }
   ],
   "source": [
    "caller = 'ADNI dataset'\n",
    "plot_precision_recall_curve(np.asarray(y_test_all), torch.stack(y_pred_all).numpy(), caller)"
   ]
  },
  {
   "attachments": {},
   "cell_type": "markdown",
   "metadata": {},
   "source": [
    "## Additional metrics"
   ]
  },
  {
   "cell_type": "code",
   "execution_count": 37,
   "metadata": {},
   "outputs": [],
   "source": [
    "from sklearn.metrics import classification_report\n",
    "from sklearn.metrics import precision_score\n",
    "from sklearn.metrics import recall_score\n",
    "from sklearn.metrics import balanced_accuracy_score"
   ]
  },
  {
   "cell_type": "code",
   "execution_count": 38,
   "metadata": {},
   "outputs": [
    {
     "name": "stdout",
     "output_type": "stream",
     "text": [
      "              precision    recall  f1-score   support\n",
      "\n",
      "        Fast       0.00      0.00      0.00        15\n",
      "        Slow       0.55      0.36      0.43       177\n",
      "Intermediate       0.69      0.86      0.77       302\n",
      "\n",
      "    accuracy                           0.66       494\n",
      "   macro avg       0.41      0.41      0.40       494\n",
      "weighted avg       0.62      0.66      0.62       494\n",
      "\n"
     ]
    }
   ],
   "source": [
    "target_names = ['Fast', 'Slow', 'Intermediate']\n",
    "print(classification_report(y_test_all, y_pred_all_max, target_names=target_names))\n"
   ]
  },
  {
   "cell_type": "code",
   "execution_count": 39,
   "metadata": {},
   "outputs": [
    {
     "data": {
      "text/plain": [
       "0.40672353799528566"
      ]
     },
     "execution_count": 39,
     "metadata": {},
     "output_type": "execute_result"
    }
   ],
   "source": [
    "balanced_accuracy_score(y_test_all, y_pred_all_max)\n"
   ]
  },
  {
   "cell_type": "code",
   "execution_count": 40,
   "metadata": {},
   "outputs": [
    {
     "data": {
      "text/plain": [
       "0.40672353799528566"
      ]
     },
     "execution_count": 40,
     "metadata": {},
     "output_type": "execute_result"
    }
   ],
   "source": [
    "recall_score(y_test_all, y_pred_all_max,  average='macro')\n"
   ]
  },
  {
   "cell_type": "code",
   "execution_count": 41,
   "metadata": {},
   "outputs": [
    {
     "data": {
      "text/plain": [
       "0.41337792642140464"
      ]
     },
     "execution_count": 41,
     "metadata": {},
     "output_type": "execute_result"
    }
   ],
   "source": [
    "precision_score(y_test_all, y_pred_all_max,  average='macro')\n"
   ]
  },
  {
   "cell_type": "code",
   "execution_count": null,
   "metadata": {},
   "outputs": [],
   "source": []
  },
  {
   "cell_type": "code",
   "execution_count": null,
   "metadata": {},
   "outputs": [],
   "source": []
  }
 ],
 "metadata": {
  "kernelspec": {
   "display_name": "pd_subtype",
   "language": "python",
   "name": "python3"
  },
  "language_info": {
   "codemirror_mode": {
    "name": "ipython",
    "version": 3
   },
   "file_extension": ".py",
   "mimetype": "text/x-python",
   "name": "python",
   "nbconvert_exporter": "python",
   "pygments_lexer": "ipython3",
   "version": "3.10.6"
  },
  "orig_nbformat": 4
 },
 "nbformat": 4,
 "nbformat_minor": 2
}
