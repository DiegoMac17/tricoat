{
 "cells": [
  {
   "cell_type": "code",
   "execution_count": 1,
   "metadata": {},
   "outputs": [],
   "source": [
    "import pickle\n",
    "import pandas as pd\n",
    "import numpy as np\n",
    "import seaborn as sns\n",
    "import torch\n",
    "from utils import wgs_cleaner, select_snps, gene_rep, filter_and_imput, clean_pat_wgs_id_ADNI, filter_and_impute_img\n",
    "import os"
   ]
  },
  {
   "cell_type": "code",
   "execution_count": 2,
   "metadata": {},
   "outputs": [],
   "source": [
    "dict_path = '../../results/ADNI_raytune_iter_0_results_dictionary.pkl'\n",
    "quant_res_path = '../../results/ADNI_raytune_iter_0_results_summary.csv'\n",
    "clin_feat_path =  '../data/ADNI/adni_clin_feat_names.txt'\n",
    "img_feat_path =  '../data/ADNI/adni_img_roi_names_short.txt'\n",
    "gen_feat_path =  '../data/ADNI/adni_gen_feat_names.txt'\n",
    "clin_dat_path = '../data/ADNI/ADNIMERGE.csv'\n",
    "img_dat_path = '../data/ADNI/imaging/TADPOLE_D1_D2.csv'\n",
    "path_img_feat = '../../../../bulk/machad/ADNI/adni_img_feat_names_crossectional.txt'\n",
    "path_feat_dict = '../../../../bulk/machad/ADNI/TADPOLE_D1_D2_Dict.csv'\n",
    "path_roi_nm = '../../../../bulk/machad/ADNI/adni_img_roi_names.txt'\n",
    "path_img_feat_short = '../data/ADNI/adni_img_roi_names_short.txt'\n",
    "outcome_vars = ['MMSE','CDRSB', 'DX_bl']\n",
    "demo_vars = ['PTID','AGE','PTGENDER','PTETHCAT','PTRACCAT']\n",
    "clin_vars = ['RAVLT_immediate' ,'RAVLT_learning' ,'RAVLT_forgetting' ,'RAVLT_perc_forgetting' ,'LDELTOTAL', 'DIGITSCOR', 'TRABSCOR']\n",
    "impute,vis_colnm = 'True', 'VISCODE'\n",
    "visit = 'bl'"
   ]
  },
  {
   "attachments": {},
   "cell_type": "markdown",
   "metadata": {},
   "source": [
    "### Load all pat data and compute descriptive stats"
   ]
  },
  {
   "cell_type": "code",
   "execution_count": 3,
   "metadata": {},
   "outputs": [
    {
     "name": "stderr",
     "output_type": "stream",
     "text": [
      "/tmp/ipykernel_520271/1966219425.py:1: DtypeWarning: Columns (18,19,20,103,104) have mixed types. Specify dtype option on import or set low_memory=False.\n",
      "  clin_dat = pd.read_csv(clin_dat_path)\n",
      "/tmp/ipykernel_520271/1966219425.py:2: DtypeWarning: Columns (22,23,24,53,54,82,97,98,99,100,101,102,103,104,105,106,107,108,109,110,111,112,113,114,115,116,117) have mixed types. Specify dtype option on import or set low_memory=False.\n",
      "  img_data = pd.read_csv(img_dat_path)\n"
     ]
    }
   ],
   "source": [
    "clin_dat = pd.read_csv(clin_dat_path)\n",
    "img_data = pd.read_csv(img_dat_path)"
   ]
  },
  {
   "cell_type": "code",
   "execution_count": 4,
   "metadata": {},
   "outputs": [],
   "source": [
    "for var in outcome_vars:\n",
    "    clin_dat = clin_dat[clin_dat[var].notna()]\n",
    "clin_dat.PTID = clin_dat.PTID.apply(lambda x: clean_pat_wgs_id_ADNI(x))\n",
    "clin_dat_bl_demo, clin_dat_bl_x, clin_dat_y  = filter_and_imput(clin_dat,'bl',demo_vars,clin_vars,outcome_vars,impute,vis_colnm)"
   ]
  },
  {
   "cell_type": "code",
   "execution_count": 5,
   "metadata": {},
   "outputs": [],
   "source": [
    "roi_nm = np.loadtxt(path_roi_nm, dtype= 'str').tolist()\n",
    "img_feat_short = np.loadtxt(path_img_feat_short, dtype= 'str').tolist()\n",
    "img_feat_short_map = dict(zip(roi_nm,img_feat_short))"
   ]
  },
  {
   "cell_type": "code",
   "execution_count": 6,
   "metadata": {},
   "outputs": [],
   "source": [
    "img_feat_nm = np.loadtxt(path_img_feat, dtype= 'str').tolist()\n",
    "cols_interest = img_feat_nm\n",
    "roi_df = pd.read_csv(path_feat_dict, dtype='str')\n",
    "img_data['PTID']\n",
    "img_data['PTID'] = img_data.PTID.apply(lambda x: clean_pat_wgs_id_ADNI(x))\n",
    "img_data = img_data.set_index('PTID')\n",
    "\n",
    "img_data = img_data.loc[img_data[vis_colnm] == visit,:]\n",
    "\n",
    "# drop column for visit ID\n",
    "img_data = img_data[img_data[vis_colnm].notna()]\n",
    "\n",
    "# Filter cols / vars of interest\n",
    "img_data = img_data.loc[:,cols_interest]\n",
    "\n",
    "# Replace empty rows that have ' ' for nan\n",
    "img_data = img_data.replace(r'^\\s*$', np.nan, regex=True)\n",
    "\n",
    "# Drop all rows that have all nans for patients\n",
    "img_data = img_data.dropna(axis = 0, how = 'all')\n",
    "\n",
    "# Filter for only Cross-Sectional analysis\n",
    "roi_df = roi_df[roi_df['FLDNAME'].isin(cols_interest)]\n",
    "roi_df = roi_df.loc[roi_df['CRFNAME'] == 'Cross-Sectional FreeSurfer (FreeSurfer Version 4.3)',:]\n",
    "\n",
    "# Parse regions of interest\n",
    "roi_df['ROI'] = roi_df['TEXT'].str.split('of',expand=True).iloc[:,1]\n",
    "roi_df['Trait'] = roi_df['TEXT'].str.split('of',expand=True).iloc[:,0]\n",
    "roi_df['Trait'] =  roi_df['Trait'].replace(r\"^ +| +$\", r\"\", regex=True)\n",
    "roi_df = roi_df.set_index('FLDNAME')\n",
    "roi_shared = roi_df.loc[roi_df['Trait'] == 'Cortical Thickness Average','ROI']\n",
    "idx = img_data.index.values"
   ]
  },
  {
   "cell_type": "code",
   "execution_count": 7,
   "metadata": {},
   "outputs": [],
   "source": [
    "img_data.columns = img_data.columns.map(roi_df.ROI.replace(r\"^ +| +$\", r\"\", regex=True).to_dict()).map(img_feat_short_map)\n",
    "img_data = img_data.loc[:, img_data.columns.notna()]\n"
   ]
  },
  {
   "cell_type": "code",
   "execution_count": 8,
   "metadata": {},
   "outputs": [
    {
     "data": {
      "text/html": [
       "<div>\n",
       "<style scoped>\n",
       "    .dataframe tbody tr th:only-of-type {\n",
       "        vertical-align: middle;\n",
       "    }\n",
       "\n",
       "    .dataframe tbody tr th {\n",
       "        vertical-align: top;\n",
       "    }\n",
       "\n",
       "    .dataframe thead th {\n",
       "        text-align: right;\n",
       "    }\n",
       "</style>\n",
       "<table border=\"1\" class=\"dataframe\">\n",
       "  <thead>\n",
       "    <tr style=\"text-align: right;\">\n",
       "      <th></th>\n",
       "      <th>RAVLT_immediate</th>\n",
       "      <th>RAVLT_learning</th>\n",
       "      <th>RAVLT_forgetting</th>\n",
       "      <th>RAVLT_perc_forgetting</th>\n",
       "      <th>LDELTOTAL</th>\n",
       "      <th>DIGITSCOR</th>\n",
       "      <th>TRABSCOR</th>\n",
       "    </tr>\n",
       "  </thead>\n",
       "  <tbody>\n",
       "    <tr>\n",
       "      <th>count</th>\n",
       "      <td>2132.000000</td>\n",
       "      <td>2132.000000</td>\n",
       "      <td>2132.000000</td>\n",
       "      <td>2132.000000</td>\n",
       "      <td>2132.000000</td>\n",
       "      <td>2132.000000</td>\n",
       "      <td>2132.000000</td>\n",
       "    </tr>\n",
       "    <tr>\n",
       "      <th>mean</th>\n",
       "      <td>36.522353</td>\n",
       "      <td>4.424471</td>\n",
       "      <td>4.218353</td>\n",
       "      <td>55.292831</td>\n",
       "      <td>7.753875</td>\n",
       "      <td>37.034398</td>\n",
       "      <td>115.413179</td>\n",
       "    </tr>\n",
       "    <tr>\n",
       "      <th>std</th>\n",
       "      <td>12.821157</td>\n",
       "      <td>2.784546</td>\n",
       "      <td>2.712804</td>\n",
       "      <td>36.499139</td>\n",
       "      <td>5.472213</td>\n",
       "      <td>8.121238</td>\n",
       "      <td>72.088317</td>\n",
       "    </tr>\n",
       "    <tr>\n",
       "      <th>min</th>\n",
       "      <td>0.000000</td>\n",
       "      <td>-8.000000</td>\n",
       "      <td>-28.000000</td>\n",
       "      <td>-400.000000</td>\n",
       "      <td>0.000000</td>\n",
       "      <td>0.000000</td>\n",
       "      <td>0.000000</td>\n",
       "    </tr>\n",
       "    <tr>\n",
       "      <th>25%</th>\n",
       "      <td>27.000000</td>\n",
       "      <td>2.000000</td>\n",
       "      <td>3.000000</td>\n",
       "      <td>26.250025</td>\n",
       "      <td>3.000000</td>\n",
       "      <td>37.034398</td>\n",
       "      <td>66.000000</td>\n",
       "    </tr>\n",
       "    <tr>\n",
       "      <th>50%</th>\n",
       "      <td>36.000000</td>\n",
       "      <td>4.000000</td>\n",
       "      <td>4.000000</td>\n",
       "      <td>55.292831</td>\n",
       "      <td>8.000000</td>\n",
       "      <td>37.034398</td>\n",
       "      <td>91.000000</td>\n",
       "    </tr>\n",
       "    <tr>\n",
       "      <th>75%</th>\n",
       "      <td>46.000000</td>\n",
       "      <td>6.000000</td>\n",
       "      <td>6.000000</td>\n",
       "      <td>100.000000</td>\n",
       "      <td>12.000000</td>\n",
       "      <td>37.034398</td>\n",
       "      <td>132.000000</td>\n",
       "    </tr>\n",
       "    <tr>\n",
       "      <th>max</th>\n",
       "      <td>71.000000</td>\n",
       "      <td>12.000000</td>\n",
       "      <td>15.000000</td>\n",
       "      <td>100.000000</td>\n",
       "      <td>23.000000</td>\n",
       "      <td>80.000000</td>\n",
       "      <td>300.000000</td>\n",
       "    </tr>\n",
       "  </tbody>\n",
       "</table>\n",
       "</div>"
      ],
      "text/plain": [
       "       RAVLT_immediate  RAVLT_learning  RAVLT_forgetting  \\\n",
       "count      2132.000000     2132.000000       2132.000000   \n",
       "mean         36.522353        4.424471          4.218353   \n",
       "std          12.821157        2.784546          2.712804   \n",
       "min           0.000000       -8.000000        -28.000000   \n",
       "25%          27.000000        2.000000          3.000000   \n",
       "50%          36.000000        4.000000          4.000000   \n",
       "75%          46.000000        6.000000          6.000000   \n",
       "max          71.000000       12.000000         15.000000   \n",
       "\n",
       "       RAVLT_perc_forgetting    LDELTOTAL    DIGITSCOR     TRABSCOR  \n",
       "count            2132.000000  2132.000000  2132.000000  2132.000000  \n",
       "mean               55.292831     7.753875    37.034398   115.413179  \n",
       "std                36.499139     5.472213     8.121238    72.088317  \n",
       "min              -400.000000     0.000000     0.000000     0.000000  \n",
       "25%                26.250025     3.000000    37.034398    66.000000  \n",
       "50%                55.292831     8.000000    37.034398    91.000000  \n",
       "75%               100.000000    12.000000    37.034398   132.000000  \n",
       "max               100.000000    23.000000    80.000000   300.000000  "
      ]
     },
     "execution_count": 8,
     "metadata": {},
     "output_type": "execute_result"
    }
   ],
   "source": [
    "clin_dat_bl_x.describe()"
   ]
  },
  {
   "attachments": {},
   "cell_type": "markdown",
   "metadata": {},
   "source": [
    "### Load attributions"
   ]
  },
  {
   "cell_type": "code",
   "execution_count": 9,
   "metadata": {},
   "outputs": [],
   "source": [
    "with open('../../results/ADNI_raytune_iter_0_results_dictionary.pkl', 'rb') as handle:\n",
    "    data = handle.read()\n",
    "d = pickle.loads(data)"
   ]
  },
  {
   "cell_type": "code",
   "execution_count": 10,
   "metadata": {},
   "outputs": [],
   "source": [
    "# load quantitavie results summary table\n",
    "quant_res = pd.read_csv(quant_res_path)\n",
    "quant_res.auc_test.idxmax()\n",
    "\n",
    "# load feature names\n",
    "clin_feat = np.loadtxt(clin_feat_path, dtype='str').tolist()\n",
    "img_feat = np.loadtxt(img_feat_path, dtype='str').tolist()\n",
    "# gen_feat = np.loadtxt(gen_feat_path, dtype='str', delimiter=\"$\").tolist() # Many gene names are not parsed properly so needed to add fake delimiter to allow for loading\n",
    "gen_feat = np.loadtxt(gen_feat_path, dtype='str').tolist()\n",
    "\n",
    "# find top performing model\n",
    "best_model_idx = quant_res.auc_test.idxmax()"
   ]
  },
  {
   "cell_type": "code",
   "execution_count": 11,
   "metadata": {},
   "outputs": [
    {
     "name": "stdout",
     "output_type": "stream",
     "text": [
      "23\n"
     ]
    }
   ],
   "source": [
    "print(best_model_idx)\n",
    "best_model = d[best_model_idx//5][best_model_idx-((best_model_idx//5)*5)]\n",
    "best_model_attributions = best_model['data']['attributions_l_test']"
   ]
  },
  {
   "cell_type": "code",
   "execution_count": 15,
   "metadata": {},
   "outputs": [
    {
     "name": "stdout",
     "output_type": "stream",
     "text": [
      "torch.Size([64, 7])\n",
      "torch.Size([64, 72, 4])\n",
      "torch.Size([64, 70, 4])\n",
      "torch.Size([64, 7])\n",
      "torch.Size([64, 72, 4])\n",
      "torch.Size([64, 70, 4])\n",
      "torch.Size([64, 7])\n",
      "torch.Size([64, 72, 4])\n",
      "torch.Size([64, 70, 4])\n",
      "torch.Size([64, 7])\n",
      "torch.Size([64, 72, 4])\n",
      "torch.Size([64, 70, 4])\n",
      "torch.Size([64, 7])\n",
      "torch.Size([64, 72, 4])\n",
      "torch.Size([64, 70, 4])\n",
      "torch.Size([64, 7])\n",
      "torch.Size([64, 72, 4])\n",
      "torch.Size([64, 70, 4])\n",
      "torch.Size([64, 7])\n",
      "torch.Size([64, 72, 4])\n",
      "torch.Size([64, 70, 4])\n",
      "torch.Size([64, 7])\n",
      "torch.Size([64, 72, 4])\n",
      "torch.Size([64, 70, 4])\n",
      "torch.Size([37, 7])\n",
      "torch.Size([37, 72, 4])\n",
      "torch.Size([37, 70, 4])\n"
     ]
    }
   ],
   "source": [
    "for i in range (27):\n",
    "    print(d[0][0]['data']['attributions_l_train'][i].shape)"
   ]
  },
  {
   "cell_type": "code",
   "execution_count": 18,
   "metadata": {},
   "outputs": [
    {
     "data": {
      "text/plain": [
       "tensor([-0.2161,  0.0155, -0.1636, -0.1067, -0.1702, -0.2556,  0.4171],\n",
       "       device='cuda:0', dtype=torch.float64, grad_fn=<SelectBackward0>)"
      ]
     },
     "execution_count": 18,
     "metadata": {},
     "output_type": "execute_result"
    }
   ],
   "source": [
    "d[0][0]['data']['attributions_l_train'][0][0]"
   ]
  },
  {
   "cell_type": "code",
   "execution_count": 16,
   "metadata": {},
   "outputs": [],
   "source": [
    "all_feat_names = np.concatenate(((np.asarray(clin_feat)), np.apply_along_axis(lambda d: d[0] + '_' + d[1], 1, np.asarray(list(zip(np.repeat(img_feat,4),['CTA','CTSD','SA','VOL']*len(img_feat))))), np.asarray(gen_feat)), axis=0)"
   ]
  },
  {
   "cell_type": "code",
   "execution_count": 12,
   "metadata": {},
   "outputs": [],
   "source": [
    "rand_pat = 7\n",
    "k=10"
   ]
  },
  {
   "attachments": {},
   "cell_type": "markdown",
   "metadata": {},
   "source": [
    "### Find top-k salient features for patient of interest"
   ]
  },
  {
   "cell_type": "code",
   "execution_count": 13,
   "metadata": {},
   "outputs": [],
   "source": [
    "clin_grads = best_model_attributions[0][rand_pat]\n",
    "img_grads = best_model_attributions[1][rand_pat].flatten()\n",
    "gen_grads = best_model_attributions[2][rand_pat].flatten()"
   ]
  },
  {
   "cell_type": "code",
   "execution_count": 14,
   "metadata": {},
   "outputs": [],
   "source": [
    "all = torch.cat((clin_grads, img_grads, gen_grads), dim=0)\n",
    "_, topf_idx = torch.topk(all.abs(),k)"
   ]
  },
  {
   "cell_type": "code",
   "execution_count": 17,
   "metadata": {},
   "outputs": [
    {
     "data": {
      "text/html": [
       "<div>\n",
       "<style scoped>\n",
       "    .dataframe tbody tr th:only-of-type {\n",
       "        vertical-align: middle;\n",
       "    }\n",
       "\n",
       "    .dataframe tbody tr th {\n",
       "        vertical-align: top;\n",
       "    }\n",
       "\n",
       "    .dataframe thead th {\n",
       "        text-align: right;\n",
       "    }\n",
       "</style>\n",
       "<table border=\"1\" class=\"dataframe\">\n",
       "  <thead>\n",
       "    <tr style=\"text-align: right;\">\n",
       "      <th></th>\n",
       "      <th>Feature</th>\n",
       "      <th>Attribution</th>\n",
       "    </tr>\n",
       "  </thead>\n",
       "  <tbody>\n",
       "    <tr>\n",
       "      <th>2</th>\n",
       "      <td>RAVLT_learn</td>\n",
       "      <td>-0.106919</td>\n",
       "    </tr>\n",
       "    <tr>\n",
       "      <th>3</th>\n",
       "      <td>DIGITSCOR</td>\n",
       "      <td>-0.055419</td>\n",
       "    </tr>\n",
       "    <tr>\n",
       "      <th>4</th>\n",
       "      <td>RAVLT_immed</td>\n",
       "      <td>-0.037298</td>\n",
       "    </tr>\n",
       "    <tr>\n",
       "      <th>5</th>\n",
       "      <td>RAVLT_forget</td>\n",
       "      <td>-0.016572</td>\n",
       "    </tr>\n",
       "    <tr>\n",
       "      <th>9</th>\n",
       "      <td>RPope_CTA</td>\n",
       "      <td>0.005184</td>\n",
       "    </tr>\n",
       "    <tr>\n",
       "      <th>8</th>\n",
       "      <td>RRAC_CTA</td>\n",
       "      <td>0.005707</td>\n",
       "    </tr>\n",
       "    <tr>\n",
       "      <th>7</th>\n",
       "      <td>RInfTemporal_</td>\n",
       "      <td>0.006686</td>\n",
       "    </tr>\n",
       "    <tr>\n",
       "      <th>6</th>\n",
       "      <td>LMedOrbit_CTA</td>\n",
       "      <td>0.008752</td>\n",
       "    </tr>\n",
       "    <tr>\n",
       "      <th>1</th>\n",
       "      <td>LDELTOTAL</td>\n",
       "      <td>0.127028</td>\n",
       "    </tr>\n",
       "    <tr>\n",
       "      <th>0</th>\n",
       "      <td>TRABSCOR</td>\n",
       "      <td>0.162199</td>\n",
       "    </tr>\n",
       "  </tbody>\n",
       "</table>\n",
       "</div>"
      ],
      "text/plain": [
       "         Feature  Attribution\n",
       "2    RAVLT_learn    -0.106919\n",
       "3      DIGITSCOR    -0.055419\n",
       "4    RAVLT_immed    -0.037298\n",
       "5   RAVLT_forget    -0.016572\n",
       "9      RPope_CTA     0.005184\n",
       "8       RRAC_CTA     0.005707\n",
       "7  RInfTemporal_     0.006686\n",
       "6  LMedOrbit_CTA     0.008752\n",
       "1      LDELTOTAL     0.127028\n",
       "0       TRABSCOR     0.162199"
      ]
     },
     "execution_count": 17,
     "metadata": {},
     "output_type": "execute_result"
    }
   ],
   "source": [
    "pd.DataFrame(zip(all_feat_names[topf_idx.detach().cpu().numpy()],all[topf_idx].detach().cpu().numpy()),columns=['Feature','Attribution']).sort_values(by='Attribution')"
   ]
  },
  {
   "cell_type": "code",
   "execution_count": 52,
   "metadata": {},
   "outputs": [
    {
     "data": {
      "text/plain": [
       "<sklearn.metrics._plot.confusion_matrix.ConfusionMatrixDisplay at 0x7f55db157e80>"
      ]
     },
     "execution_count": 52,
     "metadata": {},
     "output_type": "execute_result"
    },
    {
     "data": {
      "image/png": "[encoded data removed]",
      "text/plain": [
       "<Figure size 640x480 with 2 Axes>"
      ]
     },
     "metadata": {},
     "output_type": "display_data"
    }
   ],
   "source": [
    "from torch.nn.functional import log_softmax\n",
    "from sklearn.metrics import confusion_matrix, ConfusionMatrixDisplay\n",
    "y_test = best_model['data']['Pheno_og_test']\n",
    "res = torch.Tensor(best_model['data']['sev_scores_test'])\n",
    "preds = torch.exp(log_softmax(res,dim=1)).max(dim=1)[1]\n",
    "cm = confusion_matrix(y_test, preds, labels=[0,1,2])\n",
    "disp = ConfusionMatrixDisplay(confusion_matrix=cm,\n",
    "                              display_labels=[0,1,2])\n",
    "disp.plot()"
   ]
  },
  {
   "attachments": {},
   "cell_type": "markdown",
   "metadata": {},
   "source": [
    "### Find patients severity score and values for top-k salient features"
   ]
  },
  {
   "cell_type": "code",
   "execution_count": 22,
   "metadata": {},
   "outputs": [],
   "source": [
    "best_model_sevscore = best_model['data']['sev_scores_test']\n",
    "best_model_pat_idxs = best_model['data']['ids_out_test']"
   ]
  },
  {
   "cell_type": "code",
   "execution_count": 23,
   "metadata": {},
   "outputs": [
    {
     "data": {
      "text/plain": [
       "tensor([0.1911, 0.0863, 0.7226])"
      ]
     },
     "execution_count": 23,
     "metadata": {},
     "output_type": "execute_result"
    }
   ],
   "source": [
    "torch.nn.functional.softmax(torch.Tensor(best_model_sevscore[rand_pat]), dim=0)"
   ]
  },
  {
   "cell_type": "code",
   "execution_count": 24,
   "metadata": {},
   "outputs": [
    {
     "data": {
      "text/plain": [
       "4657.0"
      ]
     },
     "execution_count": 24,
     "metadata": {},
     "output_type": "execute_result"
    }
   ],
   "source": [
    "best_model_pat_idxs[rand_pat]"
   ]
  },
  {
   "cell_type": "code",
   "execution_count": 25,
   "metadata": {},
   "outputs": [
    {
     "data": {
      "text/plain": [
       "RAVLT_immediate          -23.522000\n",
       "RAVLT_learning            -0.424000\n",
       "RAVLT_forgetting          -2.218000\n",
       "RAVLT_perc_forgetting     -5.293000\n",
       "LDELTOTAL                 -4.754000\n",
       "DIGITSCOR                  0.000398\n",
       "TRABSCOR                 144.587000\n",
       "dtype: float64"
      ]
     },
     "execution_count": 25,
     "metadata": {},
     "output_type": "execute_result"
    }
   ],
   "source": [
    "clin_dat_pat = clin_dat_bl_x.loc[str(int(best_model_pat_idxs[rand_pat]))]\n",
    "clin_dat_pat - clin_dat_bl_x.mean().round(3)"
   ]
  },
  {
   "cell_type": "code",
   "execution_count": 26,
   "metadata": {},
   "outputs": [
    {
     "data": {
      "text/plain": [
       "RAVLT_immediate          1.0\n",
       "RAVLT_learning           1.0\n",
       "RAVLT_forgetting         1.0\n",
       "RAVLT_perc_forgetting    1.0\n",
       "LDELTOTAL                1.0\n",
       "DIGITSCOR                5.0\n",
       "TRABSCOR                 4.0\n",
       "dtype: float64"
      ]
     },
     "execution_count": 26,
     "metadata": {},
     "output_type": "execute_result"
    }
   ],
   "source": [
    "(clin_dat_pat/ clin_dat_bl_x.std()).round(0)"
   ]
  },
  {
   "cell_type": "code",
   "execution_count": 27,
   "metadata": {},
   "outputs": [
    {
     "data": {
      "text/plain": [
       "RPope            115.142\n",
       "RPope             53.983\n",
       "RPope             -0.115\n",
       "RPope             -0.070\n",
       "RRAC             334.060\n",
       "RRAC             159.927\n",
       "RRAC              -0.039\n",
       "RRAC              -0.018\n",
       "RInfTemporal   -3670.165\n",
       "RInfTemporal    -957.678\n",
       "RInfTemporal      -0.221\n",
       "RInfTemporal      -0.118\n",
       "LMedOrbit        291.426\n",
       "LMedOrbit        269.291\n",
       "LMedOrbit         -0.106\n",
       "LMedOrbit         -0.153\n",
       "dtype: float64"
      ]
     },
     "execution_count": 27,
     "metadata": {},
     "output_type": "execute_result"
    }
   ],
   "source": [
    "img_data_pat = img_data.loc[str(int(best_model_pat_idxs[rand_pat]))]\n",
    "img_data_pat_diff = img_data_pat.astype('float') - img_data.astype('float').mean().round(3)\n",
    "img_data_pat_diff.loc[['RPope', 'RRAC','RInfTemporal','LMedOrbit']]"
   ]
  },
  {
   "cell_type": "code",
   "execution_count": 28,
   "metadata": {},
   "outputs": [
    {
     "data": {
      "text/plain": [
       "RPope            5.0\n",
       "RPope            6.0\n",
       "RPope           12.0\n",
       "RPope            7.0\n",
       "RRAC             5.0\n",
       "RRAC             5.0\n",
       "RRAC            10.0\n",
       "RRAC             5.0\n",
       "RInfTemporal     3.0\n",
       "RInfTemporal     4.0\n",
       "RInfTemporal    11.0\n",
       "RInfTemporal     8.0\n",
       "LMedOrbit        5.0\n",
       "LMedOrbit        6.0\n",
       "LMedOrbit       11.0\n",
       "LMedOrbit        6.0\n",
       "dtype: float64"
      ]
     },
     "execution_count": 28,
     "metadata": {},
     "output_type": "execute_result"
    }
   ],
   "source": [
    "(img_data_pat.astype('float') / img_data.astype('float').std()).round(0).loc[['RPope', 'RRAC','RInfTemporal','LMedOrbit']]"
   ]
  },
  {
   "cell_type": "code",
   "execution_count": 29,
   "metadata": {},
   "outputs": [
    {
     "name": "stdout",
     "output_type": "stream",
     "text": [
      "tensor([0.1911, 0.0863, 0.7226])\n",
      "4657.0\n"
     ]
    }
   ],
   "source": [
    "### pat 2 \n",
    "rand_pat = 1\n",
    "k=10\n",
    "clin_grads = best_model_attributions[0][rand_pat]\n",
    "img_grads = best_model_attributions[1][rand_pat].flatten()\n",
    "gen_grads = best_model_attributions[2][rand_pat].flatten()\n",
    "\n",
    "all = torch.cat((clin_grads, img_grads, gen_grads), dim=0)\n",
    "_, topf_idx = torch.topk(all.abs(),k)\n",
    "print(torch.nn.functional.softmax(torch.Tensor(best_model_sevscore[rand_pat]), dim=0))\n",
    "print(best_model_pat_idxs[rand_pat])"
   ]
  },
  {
   "cell_type": "code",
   "execution_count": 30,
   "metadata": {},
   "outputs": [
    {
     "data": {
      "text/html": [
       "<div>\n",
       "<style scoped>\n",
       "    .dataframe tbody tr th:only-of-type {\n",
       "        vertical-align: middle;\n",
       "    }\n",
       "\n",
       "    .dataframe tbody tr th {\n",
       "        vertical-align: top;\n",
       "    }\n",
       "\n",
       "    .dataframe thead th {\n",
       "        text-align: right;\n",
       "    }\n",
       "</style>\n",
       "<table border=\"1\" class=\"dataframe\">\n",
       "  <thead>\n",
       "    <tr style=\"text-align: right;\">\n",
       "      <th></th>\n",
       "      <th>Feature</th>\n",
       "      <th>Attribution</th>\n",
       "    </tr>\n",
       "  </thead>\n",
       "  <tbody>\n",
       "    <tr>\n",
       "      <th>0</th>\n",
       "      <td>RAVLT_immed</td>\n",
       "      <td>-0.223741</td>\n",
       "    </tr>\n",
       "    <tr>\n",
       "      <th>2</th>\n",
       "      <td>LDELTOTAL</td>\n",
       "      <td>-0.158018</td>\n",
       "    </tr>\n",
       "    <tr>\n",
       "      <th>3</th>\n",
       "      <td>RAVLT_forget</td>\n",
       "      <td>-0.134824</td>\n",
       "    </tr>\n",
       "    <tr>\n",
       "      <th>4</th>\n",
       "      <td>RAVLT_learn</td>\n",
       "      <td>-0.057594</td>\n",
       "    </tr>\n",
       "    <tr>\n",
       "      <th>5</th>\n",
       "      <td>DIGITSCOR</td>\n",
       "      <td>-0.057404</td>\n",
       "    </tr>\n",
       "    <tr>\n",
       "      <th>9</th>\n",
       "      <td>RIC_VOL</td>\n",
       "      <td>0.005377</td>\n",
       "    </tr>\n",
       "    <tr>\n",
       "      <th>8</th>\n",
       "      <td>RCuneus_CTA</td>\n",
       "      <td>0.005764</td>\n",
       "    </tr>\n",
       "    <tr>\n",
       "      <th>7</th>\n",
       "      <td>LPorb_CTA</td>\n",
       "      <td>0.006029</td>\n",
       "    </tr>\n",
       "    <tr>\n",
       "      <th>6</th>\n",
       "      <td>LFpole_CTA</td>\n",
       "      <td>0.006576</td>\n",
       "    </tr>\n",
       "    <tr>\n",
       "      <th>1</th>\n",
       "      <td>TRABSCOR</td>\n",
       "      <td>0.183464</td>\n",
       "    </tr>\n",
       "  </tbody>\n",
       "</table>\n",
       "</div>"
      ],
      "text/plain": [
       "        Feature  Attribution\n",
       "0   RAVLT_immed    -0.223741\n",
       "2     LDELTOTAL    -0.158018\n",
       "3  RAVLT_forget    -0.134824\n",
       "4   RAVLT_learn    -0.057594\n",
       "5     DIGITSCOR    -0.057404\n",
       "9       RIC_VOL     0.005377\n",
       "8   RCuneus_CTA     0.005764\n",
       "7     LPorb_CTA     0.006029\n",
       "6    LFpole_CTA     0.006576\n",
       "1      TRABSCOR     0.183464"
      ]
     },
     "execution_count": 30,
     "metadata": {},
     "output_type": "execute_result"
    }
   ],
   "source": [
    "pd.DataFrame(zip(all_feat_names[topf_idx.detach().cpu().numpy()],all[topf_idx].detach().cpu().numpy()),columns=['Feature','Attribution']).sort_values(by='Attribution')"
   ]
  },
  {
   "cell_type": "code",
   "execution_count": 31,
   "metadata": {},
   "outputs": [
    {
     "data": {
      "text/plain": [
       "RAVLT_immediate          -23.522000\n",
       "RAVLT_learning            -0.424000\n",
       "RAVLT_forgetting          -2.218000\n",
       "RAVLT_perc_forgetting     -5.293000\n",
       "LDELTOTAL                 -4.754000\n",
       "DIGITSCOR                  0.000398\n",
       "TRABSCOR                 144.587000\n",
       "dtype: float64"
      ]
     },
     "execution_count": 31,
     "metadata": {},
     "output_type": "execute_result"
    }
   ],
   "source": [
    "clin_dat_pat = clin_dat_bl_x.loc[str(int(best_model_pat_idxs[rand_pat]))]\n",
    "clin_dat_pat - clin_dat_bl_x.mean().round(3)"
   ]
  },
  {
   "cell_type": "code",
   "execution_count": 32,
   "metadata": {},
   "outputs": [
    {
     "data": {
      "text/plain": [
       "RAVLT_immediate          1.0\n",
       "RAVLT_learning           1.0\n",
       "RAVLT_forgetting         1.0\n",
       "RAVLT_perc_forgetting    1.0\n",
       "LDELTOTAL                1.0\n",
       "DIGITSCOR                5.0\n",
       "TRABSCOR                 4.0\n",
       "dtype: float64"
      ]
     },
     "execution_count": 32,
     "metadata": {},
     "output_type": "execute_result"
    }
   ],
   "source": [
    "(clin_dat_pat/ clin_dat_bl_x.std()).round(0)"
   ]
  },
  {
   "cell_type": "code",
   "execution_count": 33,
   "metadata": {},
   "outputs": [
    {
     "data": {
      "text/plain": [
       "RIC_VOL          -0.103\n",
       "RCuneus_CTA      22.933\n",
       "LPorb_CTA      -471.000\n",
       "LFpole_CTA    -1639.586\n",
       "dtype: float64"
      ]
     },
     "execution_count": 33,
     "metadata": {},
     "output_type": "execute_result"
    }
   ],
   "source": [
    "img_data.columns = np.apply_along_axis(lambda d: d[0] + '_' + d[1], 1, np.asarray(list(zip(np.repeat(img_feat,4),['CTA','CTSD','SA','VOL']*len(img_feat)))))\n",
    "img_data_pat = img_data.loc[str(int(best_model_pat_idxs[rand_pat]))]\n",
    "img_data_pat_diff = img_data_pat.astype('float') - img_data.astype('float').mean().round(3)\n",
    "img_data_pat_diff.loc[['RIC_VOL', 'RCuneus_CTA','LPorb_CTA','LFpole_CTA']]"
   ]
  },
  {
   "cell_type": "code",
   "execution_count": 34,
   "metadata": {},
   "outputs": [
    {
     "data": {
      "text/plain": [
       "RIC_VOL        5.0\n",
       "RCuneus_CTA    6.0\n",
       "LPorb_CTA      6.0\n",
       "LFpole_CTA     5.0\n",
       "dtype: float64"
      ]
     },
     "execution_count": 34,
     "metadata": {},
     "output_type": "execute_result"
    }
   ],
   "source": [
    "(img_data_pat.astype('float') / img_data.astype('float').std()).round(0).loc[['RIC_VOL', 'RCuneus_CTA','LPorb_CTA','LFpole_CTA']]"
   ]
  },
  {
   "cell_type": "code",
   "execution_count": 35,
   "metadata": {},
   "outputs": [
    {
     "name": "stdout",
     "output_type": "stream",
     "text": [
      "tensor([0.5310, 0.0799, 0.3891])\n",
      "1249.0\n"
     ]
    }
   ],
   "source": [
    "### pat 3\n",
    "rand_pat = 27\n",
    "k=10\n",
    "clin_grads = best_model_attributions[0][rand_pat]\n",
    "img_grads = best_model_attributions[1][rand_pat].flatten()\n",
    "gen_grads = best_model_attributions[2][rand_pat].flatten()\n",
    "\n",
    "all = torch.cat((clin_grads, img_grads, gen_grads), dim=0)\n",
    "_, topf_idx = torch.topk(all.abs(),k)\n",
    "print(torch.nn.functional.softmax(torch.Tensor(best_model_sevscore[rand_pat]), dim=0))\n",
    "print(best_model_pat_idxs[rand_pat])"
   ]
  },
  {
   "cell_type": "code",
   "execution_count": 36,
   "metadata": {},
   "outputs": [
    {
     "data": {
      "text/html": [
       "<div>\n",
       "<style scoped>\n",
       "    .dataframe tbody tr th:only-of-type {\n",
       "        vertical-align: middle;\n",
       "    }\n",
       "\n",
       "    .dataframe tbody tr th {\n",
       "        vertical-align: top;\n",
       "    }\n",
       "\n",
       "    .dataframe thead th {\n",
       "        text-align: right;\n",
       "    }\n",
       "</style>\n",
       "<table border=\"1\" class=\"dataframe\">\n",
       "  <thead>\n",
       "    <tr style=\"text-align: right;\">\n",
       "      <th></th>\n",
       "      <th>Feature</th>\n",
       "      <th>Attribution</th>\n",
       "    </tr>\n",
       "  </thead>\n",
       "  <tbody>\n",
       "    <tr>\n",
       "      <th>4</th>\n",
       "      <td>TRABSCOR</td>\n",
       "      <td>-0.082519</td>\n",
       "    </tr>\n",
       "    <tr>\n",
       "      <th>9</th>\n",
       "      <td>LPorb_CTA</td>\n",
       "      <td>-0.005392</td>\n",
       "    </tr>\n",
       "    <tr>\n",
       "      <th>8</th>\n",
       "      <td>RPT_CTSD</td>\n",
       "      <td>0.005793</td>\n",
       "    </tr>\n",
       "    <tr>\n",
       "      <th>7</th>\n",
       "      <td>RRAC_CTA</td>\n",
       "      <td>0.006913</td>\n",
       "    </tr>\n",
       "    <tr>\n",
       "      <th>6</th>\n",
       "      <td>DIGITSCOR</td>\n",
       "      <td>0.015146</td>\n",
       "    </tr>\n",
       "    <tr>\n",
       "      <th>5</th>\n",
       "      <td>RAVLT_pforget</td>\n",
       "      <td>0.025046</td>\n",
       "    </tr>\n",
       "    <tr>\n",
       "      <th>3</th>\n",
       "      <td>RAVLT_immed</td>\n",
       "      <td>0.084306</td>\n",
       "    </tr>\n",
       "    <tr>\n",
       "      <th>2</th>\n",
       "      <td>LDELTOTAL</td>\n",
       "      <td>0.109818</td>\n",
       "    </tr>\n",
       "    <tr>\n",
       "      <th>1</th>\n",
       "      <td>RAVLT_forget</td>\n",
       "      <td>0.122818</td>\n",
       "    </tr>\n",
       "    <tr>\n",
       "      <th>0</th>\n",
       "      <td>RAVLT_learn</td>\n",
       "      <td>0.126077</td>\n",
       "    </tr>\n",
       "  </tbody>\n",
       "</table>\n",
       "</div>"
      ],
      "text/plain": [
       "         Feature  Attribution\n",
       "4       TRABSCOR    -0.082519\n",
       "9      LPorb_CTA    -0.005392\n",
       "8       RPT_CTSD     0.005793\n",
       "7       RRAC_CTA     0.006913\n",
       "6      DIGITSCOR     0.015146\n",
       "5  RAVLT_pforget     0.025046\n",
       "3    RAVLT_immed     0.084306\n",
       "2      LDELTOTAL     0.109818\n",
       "1   RAVLT_forget     0.122818\n",
       "0    RAVLT_learn     0.126077"
      ]
     },
     "execution_count": 36,
     "metadata": {},
     "output_type": "execute_result"
    }
   ],
   "source": [
    "pd.DataFrame(zip(all_feat_names[topf_idx.detach().cpu().numpy()],all[topf_idx].detach().cpu().numpy()),columns=['Feature','Attribution']).sort_values(by='Attribution')"
   ]
  },
  {
   "cell_type": "code",
   "execution_count": 126,
   "metadata": {},
   "outputs": [
    {
     "data": {
      "text/plain": [
       "RAVLT_immediate          10.4780\n",
       "RAVLT_learning            4.5760\n",
       "RAVLT_forgetting          3.7820\n",
       "RAVLT_perc_forgetting     1.8499\n",
       "LDELTOTAL                 6.2460\n",
       "DIGITSCOR                 2.9660\n",
       "TRABSCOR                -54.4130\n",
       "dtype: float64"
      ]
     },
     "execution_count": 126,
     "metadata": {},
     "output_type": "execute_result"
    }
   ],
   "source": [
    "clin_dat_pat = clin_dat_bl_x.loc[str(int(best_model_pat_idxs[rand_pat]))]\n",
    "clin_dat_pat - clin_dat_bl_x.mean().round(3)"
   ]
  },
  {
   "cell_type": "code",
   "execution_count": 128,
   "metadata": {},
   "outputs": [
    {
     "data": {
      "text/plain": [
       "LPorb_CTA   -1392.000\n",
       "RPT_CTSD      204.913\n",
       "RRAC_CTA    -2575.956\n",
       "dtype: float64"
      ]
     },
     "execution_count": 128,
     "metadata": {},
     "output_type": "execute_result"
    }
   ],
   "source": [
    "img_data.columns = np.apply_along_axis(lambda d: d[0] + '_' + d[1], 1, np.asarray(list(zip(np.repeat(img_feat,4),['CTA','CTSD','SA','VOL']*len(img_feat)))))\n",
    "img_data_pat = img_data.loc[str(int(best_model_pat_idxs[rand_pat]))]\n",
    "img_data_pat_diff = img_data_pat.astype('float') - img_data.astype('float').mean().round(3)\n",
    "img_data_pat_diff.loc[['LPorb_CTA', 'RPT_CTSD','RRAC_CTA']]"
   ]
  },
  {
   "cell_type": "code",
   "execution_count": null,
   "metadata": {},
   "outputs": [],
   "source": [
    "# Prompt building\n",
    "prompt = f\"A patient has an overall risk score of {0.7226}, in the range of 0 to 1, of having Alzheimer's disease.\\\n",
    "    A multimodal deep learning model has attributed the high risk of Alzheimer’s disease to several salient features.\\\n",
    "    First, the volume of the right insula with an attribution of {0.005377}, and cortical average thickness of the\\\n",
    "    right cuneus (attribution of {0.005764}), the left pars orbitalis (attribution of {0.006029}), and left frontal pole\\\n",
    "    (attribution of {0.006576}), trails making test B (attribution of {0.183464}), Rey Auditory Verbal Learning test (attribution of 0.057594),\\\n",
    "    digit symbol substitution test (attribution of {0.057404}), and the logical memory - delayed test (attribution of {0.158018}).\\\n",
    "    The patient has a volume of the right insula {5} standard deviations lower than the general population.\\\n",
    "    A {6} standard deviations higher cortical average thickness of the right cuneus, {6} standard deviations\\\n",
    "    lower cortical average thickness of the left pars orbitalis, and {5} standard deviations lower left frontal pole compared to the general population.\\\n",
    "    The patient scored {4} standard deviation higher in the Trails making test B compared to the general population.\\\n",
    "    The patient scored {1} standard deviations lower in the Rey Auditory Verbal Learning test, {5} standard deviations lower digit symbol substitution test,\\\n",
    "    and {1} standard deviation the logical memory - delayed test compared to the general population. Explain how the salient features relate to one another\\\n",
    "    and how they relate to the higher risk of having Alzheimer’s disease. If any of those features is irrelevant to AD, please point it out.\"\n"
   ]
  },
  {
   "cell_type": "code",
   "execution_count": null,
   "metadata": {},
   "outputs": [],
   "source": [
    "prompt = f\"A patient has an overall risk score of {ad_risk}, in the range of 0 to 1, of having Alzheimer's disease. \\\n",
    "    A multimodal deep learning model has attributed the high risk of Alzheimer’s disease to several salient features. \\\n",
    "    First, the {f1_name} with an attribution of {f1_atr}, and {f2_name} \\\n",
    "    (attribution of {f2_atr}), the {f3_name} (attribution of {f3_atr}), and {f4_name} \\\n",
    "    (attribution of {f4_atr}), {f5_name} (attribution of {f5_atr}), {f6_name} (attribution of {f6_atr}), \\\n",
    "    {f7_name} (attribution of {f7_atr}), and {f8_name} (attribution of {f8_atr}). \\\n",
    "    The patient has a {f1_name} {f1_sd} standard deviations {f1_hilo} than the general population. \\\n",
    "    A {f2_sd} standard deviations {f2_hilo} {f2_name}, {f3_sd} standard deviations \\\n",
    "    {f3_hilo} {f3_name}, and {f4_sd} standard deviations {f4_hilo} {f4_name} compared to the general population. \\\n",
    "    The patient scored {f5_sd} standard deviation {f5_hilo} in the {f5_name} compared to the general population. \\\n",
    "    The patient scored {f6_sd} standard deviations {f6_hilo} in the {f6_name}, {f7_sd} standard deviations {f7_hilo} {f7_name}, \\\n",
    "    and {f8_sd} standard deviation {f8_hilo} the {f8_name} compared to the general population. Explain how the salient features relate to one another \\\n",
    "    and how they relate to the higher risk of having Alzheimer’s disease. If any of those features is irrelevant to AD, please point it out.\""
   ]
  },
  {
   "cell_type": "code",
   "execution_count": 73,
   "metadata": {},
   "outputs": [],
   "source": [
    "def hilo(diff):\n",
    "    if diff >0:\n",
    "        return 'higher'\n",
    "    else:\n",
    "        return 'lower' \n",
    "\n",
    "clin_name_dict = {\n",
    "    'RAVLT_immediate':'Rey auditory verbal learning immediate test',\n",
    "    'RAVLT_learning':'Rey auditory verbal learning test',\n",
    "    'RAVLT_forgetting':'Rey auditory verbal learning forgetting test',\n",
    "    'RAVLT_perc_forgetting':'Rey auditory verbal learning percent forgetting test',\n",
    "    'LDELTOTAL':'Logical Memory - Delayed Recall',\n",
    "    'DIGITSCOR':'Digit Symbol Substitution',\n",
    "    'TRABSCOR':'Trail Making Test B',\n",
    "}   \n",
    "img_name_dict = {\n",
    "    'LBankssts': 'Left Cortical areas around superior temporal sulcus',\n",
    "    'LCAC': 'Left Caudal Anterior Cingulate',\n",
    "    'LCMF': 'Left Caudal Middle Frontal',\n",
    "    'LCC': 'Left Corpus Callosum',\n",
    "    'LCuneus': 'Left Cuneus cortex',\n",
    "    'LEntorhinal': 'Left Entorhinal cortex',\n",
    "    'LFpole': 'Left Frontal Pole',\n",
    "    'LFusiform': 'Left Fusiform gyrus',\n",
    "    'LInfParietal': 'Left Inferior Parietal lobe',\n",
    "    'LInfTemporal': 'Left Inferior Temporal gyrus',\n",
    "    'LInsula': 'Left Insula',\n",
    "    'LIC': 'Left Isthmus Cingulate cortex',\n",
    "    'LLatOcc': 'Left Lateral Occipital cortex',\n",
    "    'LLatOrbit': 'Left Lateral Orbitofrontal cortex',\n",
    "    'LLingual': 'Left Lingual gyrus',\n",
    "    'LMedOrbit': 'Left Medial Orbital frontal cortex',\n",
    "    'LMidTemporal': 'Left Middle Temporal gyrus',\n",
    "    'LParacentral': 'Left Paracentral lobule',\n",
    "    'LPH': 'Left Parahippocampal gyrus',\n",
    "    'LPope': 'Left Pars Opercularis',\n",
    "    'LPorb': 'Left Pars Orbitalis',\n",
    "    'LPT': 'Left Pars Triangularis',\n",
    "    'LPC': 'Left Pericalcarine cortex',\n",
    "    'LPostCentral': 'Left Postcentral gyrus',\n",
    "    'LPostCing': 'Left Posterior Cingulate cortex',\n",
    "    'LPrecentral': 'Left Precentral gyrus',\n",
    "    'LPrecuneus': 'Left Precuneus cortex',\n",
    "    'LRAC': 'Left Rostral Anterior Cingulate cortex',\n",
    "    'LRMF': 'Left Rostral Middle Frontal gyrus',\n",
    "    'LSF': 'Left Superior Frontal gyrus',\n",
    "    'LSP': 'Left Superior Parietal gyrus',\n",
    "    'LST': 'Left Superior Temporal gyrus',\n",
    "    'LSMarg': 'Left Supramarginal gyrus',\n",
    "    'LTempPole': 'Left Temporal Pole',\n",
    "    'LTransTemp': 'Left Transverse Temporal cortex',\n",
    "    'RBankssts': 'Right Cortical areas around superior temporal sulcus',\n",
    "    'RCAC': 'Right Caudal Anterior Cingulate',\n",
    "    'RCMF': 'Right Caudal Middle Frontal',\n",
    "    'RCC': 'Right Corpus Callosum',\n",
    "    'RCuneus': 'Right Cuneus cortex',\n",
    "    'REntorhinal': 'Right Entorhinal cortex',\n",
    "    'RFpole': 'Right Frontal Pole',\n",
    "    'RFusiform': 'Right Fusiform gyrus',\n",
    "    'RInfParietal': 'Right Inferior Parietal lobe',\n",
    "    'RInfTemporal': 'Right Inferior Temporal gyrus',\n",
    "    'RInsula': 'Right Insula',\n",
    "    'RIC': 'Right Isthmus Cingulate cortex',\n",
    "    'RLatOcc': 'Right Lateral Occipital cortex',\n",
    "    'RLatOrbit': 'Right Lateral Orbitofrontal cortex',\n",
    "    'RLingual': 'Right Lingual gyrus',\n",
    "    'RMedOrbit': 'Right Medial Orbital frontal cortex',\n",
    "    'RMidTemporal': 'Right Middle Temporal gyrus',\n",
    "    'RParacentral':'Right Paracentral lobule',\n",
    "    'RPH':'Right Parahippocampal gyrus',\n",
    "    'RPope':'Right Pars Opercularis',\n",
    "    'RPorb':'Right Pars Orbitalis',\n",
    "    'RPT':'Right Pars Triangularis',\n",
    "    'RPC':'Right Pericalcarine cortex',\n",
    "    'RPostCentral':'Right Postcentral gyrus',\n",
    "    'RPostCing':'Right Posterior Cingulate cortex',\n",
    "    'RPrecentral':'Right Precentral gyrus',\n",
    "    'RPrecuneus':'Right Precuneus cortex',\n",
    "    'RRAC':'Right Rostral Anterior Cingulate cortex',\n",
    "    'RRMF':'Right Rostral Middle Frontal gyrus',\n",
    "    'RSF':'Right Superior Frontal gyrus',\n",
    "    'RSP':'Right Superior Parietal gyrus',\n",
    "    'RST':'Right Superior Temporal gyrus',\n",
    "    'RSMarg':'Right Supramarginal gyrus',\n",
    "    'RTempPole':'Right Temporal Pole',\n",
    "    'RTransTemp':'Right Transverse Temporal cortex',\n",
    "}\n",
    "struct_name_dict = {\n",
    "    'CTA':'average cortical thickness',\n",
    "    'CTS': 'standard deviation cortical thickness',\n",
    "    'SA':'surface area',\n",
    "    'VOL':'volume'\n",
    "    \n",
    "}"
   ]
  },
  {
   "cell_type": "code",
   "execution_count": 78,
   "metadata": {},
   "outputs": [],
   "source": [
    "def calc_pat_feats(pat_num,k,best_model_attributions,best_model_sevscore,best_model_pat_idxs,all_feat_names,clin_dat_bl_x):\n",
    "    clin_grads = best_model_attributions[0][pat_num]\n",
    "    img_grads = best_model_attributions[1][pat_num].flatten()\n",
    "    gen_grads = best_model_attributions[2][pat_num].flatten()\n",
    "\n",
    "    all = torch.cat((clin_grads, img_grads, gen_grads), dim=0)\n",
    "    _, topf_idx = torch.topk(all.abs(),k)\n",
    "    print(torch.nn.functional.softmax(torch.Tensor(best_model_sevscore[pat_num]), dim=0))\n",
    "    print(best_model_pat_idxs[pat_num])\n",
    "\n",
    "    salient_feats = pd.DataFrame(zip(all_feat_names[topf_idx.detach().cpu().numpy()],all[topf_idx].detach().cpu().numpy()),columns=['Feature','Attribution']).sort_values(by='Attribution')\n",
    "    clin_dat_pat = clin_dat_bl_x.loc[str(int(best_model_pat_idxs[rand_pat]))]\n",
    "    raw_pat_diff_clin = clin_dat_pat - clin_dat_bl_x.mean().round(3)\n",
    "    sd_pat_clin = (clin_dat_pat/ clin_dat_bl_x.std()).round(0)\n",
    "    img_data.columns = np.apply_along_axis(lambda d: d[0] + '_' + d[1], 1, np.asarray(list(zip(np.repeat(img_feat,4),['CTA','CTSD','SA','VOL']*len(img_feat)))))\n",
    "    img_data_pat = img_data.loc[str(int(best_model_pat_idxs[rand_pat]))]\n",
    "    img_data_pat_diff = img_data_pat.astype('float') - img_data.astype('float').mean().round(3)\n",
    "    raw_pat_diff_img = img_data_pat_diff.loc[['RIC_VOL', 'RCuneus_CTA','LPorb_CTA','LFpole_CTA']]\n",
    "    sd_pat_img = (img_data_pat.astype('float') / img_data.astype('float').std()).round(0).loc[['RIC_VOL', 'RCuneus_CTA','LPorb_CTA','LFpole_CTA']]\n",
    "\n",
    "    sd_pat_clin.index = sd_pat_clin.index.map(clin_name_dict)\n",
    "    # sd_pat_img.index = sd_pat_img.index.map(img_name_dict)\n",
    "    sd_pat_img['roi'] = sd_pat_img.index.str.split('_').str[0].map(img_name_dict)\n",
    "    sd_pat_img['struct'] = sd_pat_img.index.str.split('_').str[1].map(struct_name_dict)\n",
    "\n",
    "    ad_risk = torch.nn.functional.softmax(torch.Tensor(best_model_sevscore[pat_num]), dim=0)[-1]\n",
    "    print(sd_pat_img)\n",
    "    f1_name, f1_atr, f1_hilo, f1_sd = sd_pat_img[0,0],salient_feats.loc[salient_feats['Feature']==sd_pat_img[0,0],'Attribution'],hilo(raw_pat_diff_img[0,1]),sd_pat_img[0,1]\n",
    "    f2_name, f2_atr, f2_hilo, f2_sd = sd_pat_img[1,0],salient_feats.loc[salient_feats['Feature']==sd_pat_img[1,0],'Attribution'],hilo(raw_pat_diff_img[1,1]),sd_pat_img[1,1]\n",
    "    f3_name, f3_atr, f3_hilo, f3_sd = sd_pat_img[2,0],salient_feats.loc[salient_feats['Feature']==sd_pat_img[2,0],'Attribution'],hilo(raw_pat_diff_img[2,1]),sd_pat_img[2,1]\n",
    "    f4_name, f4_atr, f4_hilo, f4_sd = sd_pat_img[3,0],salient_feats.loc[salient_feats['Feature']==sd_pat_img[3,0],'Attribution'],hilo(raw_pat_diff_img[3,1]),sd_pat_img[3,1]\n",
    "    f5_name, f5_atr, f5_hilo, f5_sd = sd_pat_img[4,0],salient_feats.loc[salient_feats['Feature']==sd_pat_img[4,0],'Attribution'],hilo(raw_pat_diff_img[4,1]),sd_pat_img[4,1]\n",
    "    f6_name, f6_atr, f6_hilo, f6_sd = sd_pat_img[5,0],salient_feats.loc[salient_feats['Feature']==sd_pat_img[5,0],'Attribution'],hilo(raw_pat_diff_img[5,1]),sd_pat_img[5,1]\n",
    "    f7_name, f7_atr, f7_hilo, f7_sd = sd_pat_img[6,0],salient_feats.loc[salient_feats['Feature']==sd_pat_img[6,0],'Attribution'],hilo(raw_pat_diff_img[6,1]),sd_pat_img[6,1]\n",
    "    f8_name, f8_atr, f8_hilo, f8_sd = sd_pat_img[7,0],salient_feats.loc[salient_feats['Feature']==sd_pat_img[7,0],'Attribution'],hilo(raw_pat_diff_img[7,1]),sd_pat_img[7,1]\n",
    "\n",
    "\n",
    "    prompt = f\"A patient has an overall risk score of {ad_risk}, in the range of 0 to 1, of having Alzheimer's disease. \\\n",
    "    A multimodal deep learning model has attributed the high risk of Alzheimer’s disease to several salient features. \\\n",
    "    First, the {f1_name} with an attribution of {f1_atr}, and {f2_name} \\\n",
    "    (attribution of {f2_atr}), the {f3_name} (attribution of {f3_atr}), and {f4_name} \\\n",
    "    (attribution of {f4_atr}), {f5_name} (attribution of {f5_atr}), {f6_name} (attribution of {f6_atr}), \\\n",
    "    {f7_name} (attribution of {f7_atr}), and {f8_name} (attribution of {f8_atr}). \\\n",
    "    The patient has a {f1_name} {f1_sd} standard deviations {f1_hilo} than the general population. \\\n",
    "    A {f2_sd} standard deviations {f2_hilo} {f2_name}, {f3_sd} standard deviations \\\n",
    "    {f3_hilo} {f3_name}, and {f4_sd} standard deviations {f4_hilo} {f4_name} compared to the general population. \\\n",
    "    The patient scored {f5_sd} standard deviation {f5_hilo} in the {f5_name} compared to the general population. \\\n",
    "    The patient scored {f6_sd} standard deviations {f6_hilo} in the {f6_name}, {f7_sd} standard deviations {f7_hilo} {f7_name}, \\\n",
    "    and {f8_sd} standard deviation {f8_hilo} the {f8_name} compared to the general population. Explain how the salient features relate to one another \\\n",
    "    and how they relate to the higher risk of having Alzheimer’s disease. If any of those features is irrelevant to AD, please point it out.\"\n",
    "\n",
    "    print(prompt)"
   ]
  },
  {
   "cell_type": "code",
   "execution_count": 96,
   "metadata": {},
   "outputs": [
    {
     "name": "stdout",
     "output_type": "stream",
     "text": [
      "tensor([0.3532, 0.0666, 0.5803])\n",
      "802.0\n",
      "volume of the Right Isthmus Cingulate cortex             5.0\n",
      "average cortical thickness of the Right Cuneus cortex    3.0\n",
      "average cortical thickness of the Left Pars Orbitalis    5.0\n",
      "average cortical thickness of the Left Frontal Pole      6.0\n",
      "dtype: float64\n"
     ]
    },
    {
     "ename": "IndexError",
     "evalue": "index 4 is out of bounds for axis 0 with size 4",
     "output_type": "error",
     "traceback": [
      "\u001b[0;31m---------------------------------------------------------------------------\u001b[0m",
      "\u001b[0;31mIndexError\u001b[0m                                Traceback (most recent call last)",
      "\u001b[1;32m/home/machad/fast/pd_subtype/released/gradient_analysis.ipynb Cell 44\u001b[0m in \u001b[0;36m<cell line: 32>\u001b[0;34m()\u001b[0m\n\u001b[1;32m     <a href='vscode-notebook-cell://ssh-remote%2Bbliz.bme.rpi.edu/home/machad/fast/pd_subtype/released/gradient_analysis.ipynb#Y103sdnNjb2RlLXJlbW90ZQ%3D%3D?line=29'>30</a>\u001b[0m f3_name, f3_atr, f3_hilo, f3_sd \u001b[39m=\u001b[39m sd_pat_img\u001b[39m.\u001b[39mindex[\u001b[39m2\u001b[39m],salient_feats\u001b[39m.\u001b[39mloc[salient_feats[\u001b[39m'\u001b[39m\u001b[39mFeature\u001b[39m\u001b[39m'\u001b[39m]\u001b[39m==\u001b[39msd_pat_img\u001b[39m.\u001b[39mindex[\u001b[39m2\u001b[39m],\u001b[39m'\u001b[39m\u001b[39mAttribution\u001b[39m\u001b[39m'\u001b[39m],hilo(raw_pat_diff_img[\u001b[39m2\u001b[39m]),sd_pat_img[\u001b[39m2\u001b[39m]\n\u001b[1;32m     <a href='vscode-notebook-cell://ssh-remote%2Bbliz.bme.rpi.edu/home/machad/fast/pd_subtype/released/gradient_analysis.ipynb#Y103sdnNjb2RlLXJlbW90ZQ%3D%3D?line=30'>31</a>\u001b[0m f4_name, f4_atr, f4_hilo, f4_sd \u001b[39m=\u001b[39m sd_pat_img\u001b[39m.\u001b[39mindex[\u001b[39m3\u001b[39m],salient_feats\u001b[39m.\u001b[39mloc[salient_feats[\u001b[39m'\u001b[39m\u001b[39mFeature\u001b[39m\u001b[39m'\u001b[39m]\u001b[39m==\u001b[39msd_pat_img\u001b[39m.\u001b[39mindex[\u001b[39m3\u001b[39m],\u001b[39m'\u001b[39m\u001b[39mAttribution\u001b[39m\u001b[39m'\u001b[39m],hilo(raw_pat_diff_img[\u001b[39m3\u001b[39m]),sd_pat_img[\u001b[39m3\u001b[39m]\n\u001b[0;32m---> <a href='vscode-notebook-cell://ssh-remote%2Bbliz.bme.rpi.edu/home/machad/fast/pd_subtype/released/gradient_analysis.ipynb#Y103sdnNjb2RlLXJlbW90ZQ%3D%3D?line=31'>32</a>\u001b[0m f5_name, f5_atr, f5_hilo, f5_sd \u001b[39m=\u001b[39m sd_pat_img\u001b[39m.\u001b[39;49mindex[\u001b[39m4\u001b[39;49m],salient_feats\u001b[39m.\u001b[39mloc[salient_feats[\u001b[39m'\u001b[39m\u001b[39mFeature\u001b[39m\u001b[39m'\u001b[39m]\u001b[39m==\u001b[39msd_pat_img\u001b[39m.\u001b[39mindex[\u001b[39m4\u001b[39m],\u001b[39m'\u001b[39m\u001b[39mAttribution\u001b[39m\u001b[39m'\u001b[39m],hilo(raw_pat_diff_img[\u001b[39m4\u001b[39m]),sd_pat_img[\u001b[39m4\u001b[39m]\n\u001b[1;32m     <a href='vscode-notebook-cell://ssh-remote%2Bbliz.bme.rpi.edu/home/machad/fast/pd_subtype/released/gradient_analysis.ipynb#Y103sdnNjb2RlLXJlbW90ZQ%3D%3D?line=32'>33</a>\u001b[0m f6_name, f6_atr, f6_hilo, f6_sd \u001b[39m=\u001b[39m sd_pat_img\u001b[39m.\u001b[39mindex[\u001b[39m5\u001b[39m],salient_feats\u001b[39m.\u001b[39mloc[salient_feats[\u001b[39m'\u001b[39m\u001b[39mFeature\u001b[39m\u001b[39m'\u001b[39m]\u001b[39m==\u001b[39msd_pat_img\u001b[39m.\u001b[39mindex[\u001b[39m5\u001b[39m],\u001b[39m'\u001b[39m\u001b[39mAttribution\u001b[39m\u001b[39m'\u001b[39m],hilo(raw_pat_diff_img[\u001b[39m5\u001b[39m]),sd_pat_img[\u001b[39m5\u001b[39m]\n\u001b[1;32m     <a href='vscode-notebook-cell://ssh-remote%2Bbliz.bme.rpi.edu/home/machad/fast/pd_subtype/released/gradient_analysis.ipynb#Y103sdnNjb2RlLXJlbW90ZQ%3D%3D?line=33'>34</a>\u001b[0m f7_name, f7_atr, f7_hilo, f7_sd \u001b[39m=\u001b[39m sd_pat_img\u001b[39m.\u001b[39mindex[\u001b[39m6\u001b[39m],salient_feats\u001b[39m.\u001b[39mloc[salient_feats[\u001b[39m'\u001b[39m\u001b[39mFeature\u001b[39m\u001b[39m'\u001b[39m]\u001b[39m==\u001b[39msd_pat_img\u001b[39m.\u001b[39mindex[\u001b[39m6\u001b[39m],\u001b[39m'\u001b[39m\u001b[39mAttribution\u001b[39m\u001b[39m'\u001b[39m],hilo(raw_pat_diff_img[\u001b[39m6\u001b[39m]),sd_pat_img[\u001b[39m6\u001b[39m]\n",
      "File \u001b[0;32m~/miniconda3/envs/pd_subtype/lib/python3.10/site-packages/pandas/core/indexes/base.py:5053\u001b[0m, in \u001b[0;36mIndex.__getitem__\u001b[0;34m(self, key)\u001b[0m\n\u001b[1;32m   5050\u001b[0m \u001b[39mif\u001b[39;00m is_integer(key) \u001b[39mor\u001b[39;00m is_float(key):\n\u001b[1;32m   5051\u001b[0m     \u001b[39m# GH#44051 exclude bool, which would return a 2d ndarray\u001b[39;00m\n\u001b[1;32m   5052\u001b[0m     key \u001b[39m=\u001b[39m com\u001b[39m.\u001b[39mcast_scalar_indexer(key, warn_float\u001b[39m=\u001b[39m\u001b[39mTrue\u001b[39;00m)\n\u001b[0;32m-> 5053\u001b[0m     \u001b[39mreturn\u001b[39;00m getitem(key)\n\u001b[1;32m   5055\u001b[0m \u001b[39mif\u001b[39;00m \u001b[39misinstance\u001b[39m(key, \u001b[39mslice\u001b[39m):\n\u001b[1;32m   5056\u001b[0m     \u001b[39m# This case is separated from the conditional above to avoid\u001b[39;00m\n\u001b[1;32m   5057\u001b[0m     \u001b[39m# pessimization com.is_bool_indexer and ndim checks.\u001b[39;00m\n\u001b[1;32m   5058\u001b[0m     result \u001b[39m=\u001b[39m getitem(key)\n",
      "\u001b[0;31mIndexError\u001b[0m: index 4 is out of bounds for axis 0 with size 4"
     ]
    }
   ],
   "source": [
    "pat_num = 0\n",
    "clin_grads = best_model_attributions[0][pat_num]\n",
    "img_grads = best_model_attributions[1][pat_num].flatten()\n",
    "gen_grads = best_model_attributions[2][pat_num].flatten()\n",
    "\n",
    "all = torch.cat((clin_grads, img_grads, gen_grads), dim=0)\n",
    "_, topf_idx = torch.topk(all.abs(),k)\n",
    "print(torch.nn.functional.softmax(torch.Tensor(best_model_sevscore[pat_num]), dim=0))\n",
    "print(best_model_pat_idxs[pat_num])\n",
    "\n",
    "salient_feats = pd.DataFrame(zip(all_feat_names[topf_idx.detach().cpu().numpy()],all[topf_idx].detach().cpu().numpy()),columns=['Feature','Attribution']).sort_values(by='Attribution')\n",
    "clin_dat_pat = clin_dat_bl_x.loc[str(int(best_model_pat_idxs[rand_pat]))]\n",
    "raw_pat_diff_clin = clin_dat_pat - clin_dat_bl_x.mean().round(3)\n",
    "sd_pat_clin = (clin_dat_pat/ clin_dat_bl_x.std()).round(0)\n",
    "img_data.columns = np.apply_along_axis(lambda d: d[0] + '_' + d[1], 1, np.asarray(list(zip(np.repeat(img_feat,4),['CTA','CTSD','SA','VOL']*len(img_feat)))))\n",
    "img_data_pat = img_data.loc[str(int(best_model_pat_idxs[rand_pat]))]\n",
    "img_data_pat_diff = img_data_pat.astype('float') - img_data.astype('float').mean().round(3)\n",
    "raw_pat_diff_img = img_data_pat_diff.loc[['RIC_VOL', 'RCuneus_CTA','LPorb_CTA','LFpole_CTA']]\n",
    "sd_pat_img = (img_data_pat.astype('float') / img_data.astype('float').std()).round(0).loc[['RIC_VOL', 'RCuneus_CTA','LPorb_CTA','LFpole_CTA']]\n",
    "\n",
    "sd_pat_clin.index = sd_pat_clin.index.map(clin_name_dict)\n",
    "sd_pat_img.index = pd.Series(sd_pat_img.index.str.split('_').str[1].map(struct_name_dict) +' of the ' + sd_pat_img.index.str.split('_').str[0].map(img_name_dict))\n",
    "# sd_pat_img['roi'] = sd_pat_img.index.str.split('_').str[0].map(img_name_dict)\n",
    "# sd_pat_img['struct'] = sd_pat_img.index.str.split('_').str[1].map(struct_name_dict)\n",
    "\n",
    "ad_risk = torch.nn.functional.softmax(torch.Tensor(best_model_sevscore[pat_num]), dim=0)[-1]\n",
    "print(sd_pat_img)\n",
    "f1_name, f1_atr, f1_hilo, f1_sd = sd_pat_img.index[0],salient_feats.loc[salient_feats['Feature']==sd_pat_img.index[0],'Attribution'],hilo(raw_pat_diff_img[0]),sd_pat_img[0]\n",
    "f2_name, f2_atr, f2_hilo, f2_sd = sd_pat_img.index[1],salient_feats.loc[salient_feats['Feature']==sd_pat_img.index[1],'Attribution'],hilo(raw_pat_diff_img[1]),sd_pat_img[1]\n",
    "f3_name, f3_atr, f3_hilo, f3_sd = sd_pat_img.index[2],salient_feats.loc[salient_feats['Feature']==sd_pat_img.index[2],'Attribution'],hilo(raw_pat_diff_img[2]),sd_pat_img[2]\n",
    "f4_name, f4_atr, f4_hilo, f4_sd = sd_pat_img.index[3],salient_feats.loc[salient_feats['Feature']==sd_pat_img.index[3],'Attribution'],hilo(raw_pat_diff_img[3]),sd_pat_img[3]\n",
    "f5_name, f5_atr, f5_hilo, f5_sd = sd_pat_img.index[4],salient_feats.loc[salient_feats['Feature']==sd_pat_img.index[4],'Attribution'],hilo(raw_pat_diff_img[4]),sd_pat_img[4]\n",
    "f6_name, f6_atr, f6_hilo, f6_sd = sd_pat_img.index[5],salient_feats.loc[salient_feats['Feature']==sd_pat_img.index[5],'Attribution'],hilo(raw_pat_diff_img[5]),sd_pat_img[5]\n",
    "f7_name, f7_atr, f7_hilo, f7_sd = sd_pat_img.index[6],salient_feats.loc[salient_feats['Feature']==sd_pat_img.index[6],'Attribution'],hilo(raw_pat_diff_img[6]),sd_pat_img[6]\n",
    "f8_name, f8_atr, f8_hilo, f8_sd = sd_pat_img.index[7],salient_feats.loc[salient_feats['Feature']==sd_pat_img.index[7],'Attribution'],hilo(raw_pat_diff_img[7]),sd_pat_img[7]"
   ]
  },
  {
   "cell_type": "code",
   "execution_count": 95,
   "metadata": {},
   "outputs": [
    {
     "data": {
      "text/plain": [
       "5.0"
      ]
     },
     "execution_count": 95,
     "metadata": {},
     "output_type": "execute_result"
    }
   ],
   "source": [
    "sd_pat_img[0]"
   ]
  },
  {
   "cell_type": "code",
   "execution_count": 79,
   "metadata": {},
   "outputs": [
    {
     "name": "stdout",
     "output_type": "stream",
     "text": [
      "tensor([0.3532, 0.0666, 0.5803])\n",
      "802.0\n",
      "RIC_VOL                                                      5.0\n",
      "RCuneus_CTA                                                  3.0\n",
      "LPorb_CTA                                                    5.0\n",
      "LFpole_CTA                                                   6.0\n",
      "roi            Index(['Right Isthmus Cingulate cortex', 'Righ...\n",
      "struct         Index([                    'volume', 'average ...\n",
      "dtype: object\n"
     ]
    },
    {
     "ename": "KeyError",
     "evalue": "'key of type tuple not found and not a MultiIndex'",
     "output_type": "error",
     "traceback": [
      "\u001b[0;31m---------------------------------------------------------------------------\u001b[0m",
      "\u001b[0;31mKeyError\u001b[0m                                  Traceback (most recent call last)",
      "\u001b[1;32m/home/machad/fast/pd_subtype/released/gradient_analysis.ipynb Cell 44\u001b[0m in \u001b[0;36m<cell line: 1>\u001b[0;34m()\u001b[0m\n\u001b[0;32m----> <a href='vscode-notebook-cell://ssh-remote%2Bbliz.bme.rpi.edu/home/machad/fast/pd_subtype/released/gradient_analysis.ipynb#X65sdnNjb2RlLXJlbW90ZQ%3D%3D?line=0'>1</a>\u001b[0m calc_pat_feats(\u001b[39m0\u001b[39;49m,\u001b[39m10\u001b[39;49m,best_model_attributions,best_model_sevscore,best_model_pat_idxs,all_feat_names,clin_dat_bl_x)\n",
      "\u001b[1;32m/home/machad/fast/pd_subtype/released/gradient_analysis.ipynb Cell 44\u001b[0m in \u001b[0;36mcalc_pat_feats\u001b[0;34m(pat_num, k, best_model_attributions, best_model_sevscore, best_model_pat_idxs, all_feat_names, clin_dat_bl_x)\u001b[0m\n\u001b[1;32m     <a href='vscode-notebook-cell://ssh-remote%2Bbliz.bme.rpi.edu/home/machad/fast/pd_subtype/released/gradient_analysis.ipynb#X65sdnNjb2RlLXJlbW90ZQ%3D%3D?line=25'>26</a>\u001b[0m ad_risk \u001b[39m=\u001b[39m torch\u001b[39m.\u001b[39mnn\u001b[39m.\u001b[39mfunctional\u001b[39m.\u001b[39msoftmax(torch\u001b[39m.\u001b[39mTensor(best_model_sevscore[pat_num]), dim\u001b[39m=\u001b[39m\u001b[39m0\u001b[39m)[\u001b[39m-\u001b[39m\u001b[39m1\u001b[39m]\n\u001b[1;32m     <a href='vscode-notebook-cell://ssh-remote%2Bbliz.bme.rpi.edu/home/machad/fast/pd_subtype/released/gradient_analysis.ipynb#X65sdnNjb2RlLXJlbW90ZQ%3D%3D?line=26'>27</a>\u001b[0m \u001b[39mprint\u001b[39m(sd_pat_img)\n\u001b[0;32m---> <a href='vscode-notebook-cell://ssh-remote%2Bbliz.bme.rpi.edu/home/machad/fast/pd_subtype/released/gradient_analysis.ipynb#X65sdnNjb2RlLXJlbW90ZQ%3D%3D?line=27'>28</a>\u001b[0m f1_name, f1_atr, f1_hilo, f1_sd \u001b[39m=\u001b[39m sd_pat_img[\u001b[39m0\u001b[39;49m,\u001b[39m0\u001b[39;49m],salient_feats\u001b[39m.\u001b[39mloc[salient_feats[\u001b[39m'\u001b[39m\u001b[39mFeature\u001b[39m\u001b[39m'\u001b[39m]\u001b[39m==\u001b[39msd_pat_img[\u001b[39m0\u001b[39m,\u001b[39m0\u001b[39m],\u001b[39m'\u001b[39m\u001b[39mAttribution\u001b[39m\u001b[39m'\u001b[39m],hilo(raw_pat_diff_img[\u001b[39m0\u001b[39m,\u001b[39m1\u001b[39m]),sd_pat_img[\u001b[39m0\u001b[39m,\u001b[39m1\u001b[39m]\n\u001b[1;32m     <a href='vscode-notebook-cell://ssh-remote%2Bbliz.bme.rpi.edu/home/machad/fast/pd_subtype/released/gradient_analysis.ipynb#X65sdnNjb2RlLXJlbW90ZQ%3D%3D?line=28'>29</a>\u001b[0m f2_name, f2_atr, f2_hilo, f2_sd \u001b[39m=\u001b[39m sd_pat_img[\u001b[39m1\u001b[39m,\u001b[39m0\u001b[39m],salient_feats\u001b[39m.\u001b[39mloc[salient_feats[\u001b[39m'\u001b[39m\u001b[39mFeature\u001b[39m\u001b[39m'\u001b[39m]\u001b[39m==\u001b[39msd_pat_img[\u001b[39m1\u001b[39m,\u001b[39m0\u001b[39m],\u001b[39m'\u001b[39m\u001b[39mAttribution\u001b[39m\u001b[39m'\u001b[39m],hilo(raw_pat_diff_img[\u001b[39m1\u001b[39m,\u001b[39m1\u001b[39m]),sd_pat_img[\u001b[39m1\u001b[39m,\u001b[39m1\u001b[39m]\n\u001b[1;32m     <a href='vscode-notebook-cell://ssh-remote%2Bbliz.bme.rpi.edu/home/machad/fast/pd_subtype/released/gradient_analysis.ipynb#X65sdnNjb2RlLXJlbW90ZQ%3D%3D?line=29'>30</a>\u001b[0m f3_name, f3_atr, f3_hilo, f3_sd \u001b[39m=\u001b[39m sd_pat_img[\u001b[39m2\u001b[39m,\u001b[39m0\u001b[39m],salient_feats\u001b[39m.\u001b[39mloc[salient_feats[\u001b[39m'\u001b[39m\u001b[39mFeature\u001b[39m\u001b[39m'\u001b[39m]\u001b[39m==\u001b[39msd_pat_img[\u001b[39m2\u001b[39m,\u001b[39m0\u001b[39m],\u001b[39m'\u001b[39m\u001b[39mAttribution\u001b[39m\u001b[39m'\u001b[39m],hilo(raw_pat_diff_img[\u001b[39m2\u001b[39m,\u001b[39m1\u001b[39m]),sd_pat_img[\u001b[39m2\u001b[39m,\u001b[39m1\u001b[39m]\n",
      "File \u001b[0;32m~/miniconda3/envs/pd_subtype/lib/python3.10/site-packages/pandas/core/series.py:984\u001b[0m, in \u001b[0;36mSeries.__getitem__\u001b[0;34m(self, key)\u001b[0m\n\u001b[1;32m    981\u001b[0m     key \u001b[39m=\u001b[39m np\u001b[39m.\u001b[39masarray(key, dtype\u001b[39m=\u001b[39m\u001b[39mbool\u001b[39m)\n\u001b[1;32m    982\u001b[0m     \u001b[39mreturn\u001b[39;00m \u001b[39mself\u001b[39m\u001b[39m.\u001b[39m_get_values(key)\n\u001b[0;32m--> 984\u001b[0m \u001b[39mreturn\u001b[39;00m \u001b[39mself\u001b[39;49m\u001b[39m.\u001b[39;49m_get_with(key)\n",
      "File \u001b[0;32m~/miniconda3/envs/pd_subtype/lib/python3.10/site-packages/pandas/core/series.py:999\u001b[0m, in \u001b[0;36mSeries._get_with\u001b[0;34m(self, key)\u001b[0m\n\u001b[1;32m    994\u001b[0m     \u001b[39mraise\u001b[39;00m \u001b[39mTypeError\u001b[39;00m(\n\u001b[1;32m    995\u001b[0m         \u001b[39m\"\u001b[39m\u001b[39mIndexing a Series with DataFrame is not \u001b[39m\u001b[39m\"\u001b[39m\n\u001b[1;32m    996\u001b[0m         \u001b[39m\"\u001b[39m\u001b[39msupported, use the appropriate DataFrame column\u001b[39m\u001b[39m\"\u001b[39m\n\u001b[1;32m    997\u001b[0m     )\n\u001b[1;32m    998\u001b[0m \u001b[39melif\u001b[39;00m \u001b[39misinstance\u001b[39m(key, \u001b[39mtuple\u001b[39m):\n\u001b[0;32m--> 999\u001b[0m     \u001b[39mreturn\u001b[39;00m \u001b[39mself\u001b[39;49m\u001b[39m.\u001b[39;49m_get_values_tuple(key)\n\u001b[1;32m   1001\u001b[0m \u001b[39melif\u001b[39;00m \u001b[39mnot\u001b[39;00m is_list_like(key):\n\u001b[1;32m   1002\u001b[0m     \u001b[39m# e.g. scalars that aren't recognized by lib.is_scalar, GH#32684\u001b[39;00m\n\u001b[1;32m   1003\u001b[0m     \u001b[39mreturn\u001b[39;00m \u001b[39mself\u001b[39m\u001b[39m.\u001b[39mloc[key]\n",
      "File \u001b[0;32m~/miniconda3/envs/pd_subtype/lib/python3.10/site-packages/pandas/core/series.py:1034\u001b[0m, in \u001b[0;36mSeries._get_values_tuple\u001b[0;34m(self, key)\u001b[0m\n\u001b[1;32m   1031\u001b[0m     \u001b[39mreturn\u001b[39;00m result\n\u001b[1;32m   1033\u001b[0m \u001b[39mif\u001b[39;00m \u001b[39mnot\u001b[39;00m \u001b[39misinstance\u001b[39m(\u001b[39mself\u001b[39m\u001b[39m.\u001b[39mindex, MultiIndex):\n\u001b[0;32m-> 1034\u001b[0m     \u001b[39mraise\u001b[39;00m \u001b[39mKeyError\u001b[39;00m(\u001b[39m\"\u001b[39m\u001b[39mkey of type tuple not found and not a MultiIndex\u001b[39m\u001b[39m\"\u001b[39m)\n\u001b[1;32m   1036\u001b[0m \u001b[39m# If key is contained, would have returned by now\u001b[39;00m\n\u001b[1;32m   1037\u001b[0m indexer, new_index \u001b[39m=\u001b[39m \u001b[39mself\u001b[39m\u001b[39m.\u001b[39mindex\u001b[39m.\u001b[39mget_loc_level(key)\n",
      "\u001b[0;31mKeyError\u001b[0m: 'key of type tuple not found and not a MultiIndex'"
     ]
    }
   ],
   "source": [
    "calc_pat_feats(0,10,best_model_attributions,best_model_sevscore,best_model_pat_idxs,all_feat_names,clin_dat_bl_x)"
   ]
  },
  {
   "cell_type": "code",
   "execution_count": null,
   "metadata": {},
   "outputs": [],
   "source": [
    "def prompt_build(blanks):\n",
    "    ad_risk = blanks[]\n",
    "    f1_name, f1_atr, f1_hilo, f1_sd = blanks['f1_name'],blanks[],blanks[],blanks[]\n",
    "    f2_name, f2_atr, f2_hilo, f2_sd = blanks[],blanks[],blanks[],blanks[]\n",
    "    f3_name, f3_atr, f3_hilo, f3_sd = blanks[],blanks[],blanks[],blanks[]\n",
    "    f4_name, f4_atr, f4_hilo, f4_sd = blanks[],blanks[],blanks[],blanks[]\n",
    "    f5_name, f5_atr, f5_hilo, f5_sd = blanks[],blanks[],blanks[],blanks[]\n",
    "    f6_name, f6_atr, f6_hilo, f6_sd = blanks[],blanks[],blanks[],blanks[]\n",
    "    f7_name, f7_atr, f7_hilo, f7_sd = blanks[],blanks[],blanks[],blanks[]\n",
    "    f8_name, f8_atr, f8_hilo, f8_sd = blanks[],blanks[],blanks[],blanks[]\n",
    "    prompt = f\"A patient has an overall risk score of {ad_risk}, in the range of 0 to 1, of having Alzheimer's disease. \\\n",
    "    A multimodal deep learning model has attributed the high risk of Alzheimer’s disease to several salient features. \\\n",
    "    First, the {f1_name} with an attribution of {f1_atr}, and {f2_name} \\\n",
    "    (attribution of {f2_atr}), the {f3_name} (attribution of {f3_atr}), and {f4_name} \\\n",
    "    (attribution of {f4_atr}), {f5_name} (attribution of {f5_atr}), {f6_name} (attribution of {f6_atr}), \\\n",
    "    {f7_name} (attribution of {f7_atr}), and {f8_name} (attribution of {f8_atr}). \\\n",
    "    The patient has a {f1_name} {f1_sd} standard deviations {f1_hilo} than the general population. \\\n",
    "    A {f2_sd} standard deviations {f2_hilo} {f2_name}, {f3_sd} standard deviations \\\n",
    "    {f3_hilo} {f3_name}, and {f4_sd} standard deviations {f4_hilo} {f4_name} compared to the general population. \\\n",
    "    The patient scored {f5_sd} standard deviation {f5_hilo} in the {f5_name} compared to the general population. \\\n",
    "    The patient scored {f6_sd} standard deviations {f6_hilo} in the {f6_name}, {f7_sd} standard deviations {f7_hilo} {f7_name}, \\\n",
    "    and {f8_sd} standard deviation {f8_hilo} the {f8_name} compared to the general population. Explain how the salient features relate to one another \\\n",
    "    and how they relate to the higher risk of having Alzheimer’s disease. If any of those features is irrelevant to AD, please point it out.\"\n",
    "    return prompt"
   ]
  }
 ],
 "metadata": {
  "kernelspec": {
   "display_name": "pd_subtype",
   "language": "python",
   "name": "python3"
  },
  "language_info": {
   "codemirror_mode": {
    "name": "ipython",
    "version": 3
   },
   "file_extension": ".py",
   "mimetype": "text/x-python",
   "name": "python",
   "nbconvert_exporter": "python",
   "pygments_lexer": "ipython3",
   "version": "3.10.6"
  },
  "orig_nbformat": 4
 },
 "nbformat": 4,
 "nbformat_minor": 2
}
